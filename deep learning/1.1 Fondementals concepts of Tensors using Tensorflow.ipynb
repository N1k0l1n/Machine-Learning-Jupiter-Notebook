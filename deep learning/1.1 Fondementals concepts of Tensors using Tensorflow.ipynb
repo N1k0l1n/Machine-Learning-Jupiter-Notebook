{
 "cells": [
  {
   "cell_type": "markdown",
   "metadata": {},
   "source": [
    "# Fondementals concepts of Tensors using Tensorflow\n",
    "\n",
    "Table of Content: \n",
    "* Introduction to tensors\n",
    "* Getting information about tensors\n",
    "* Maniplulating tensors\n",
    "* Tensors and Numpy\n",
    "* Using @tf.function\n",
    "* Using GPU with Tensorflow (TPU)\n",
    "* Exercises\n"
   ]
  },
  {
   "cell_type": "markdown",
   "metadata": {},
   "source": [
    "# Intruction to Tensors"
   ]
  },
  {
   "cell_type": "code",
   "execution_count": null,
   "metadata": {},
   "outputs": [],
   "source": [
    "import tensorflow as tf\n",
    "print(tf.__version__)"
   ]
  },
  {
   "cell_type": "code",
   "execution_count": null,
   "metadata": {},
   "outputs": [],
   "source": [
    "# Create Tensor with tf.constant()\n",
    "scalar = tf.constant(7)\n",
    "scalar"
   ]
  },
  {
   "cell_type": "code",
   "execution_count": null,
   "metadata": {},
   "outputs": [],
   "source": [
    "# Check Number of Dimensions in a Tensor\n",
    "scalar.ndim()"
   ]
  },
  {
   "cell_type": "code",
   "execution_count": null,
   "metadata": {},
   "outputs": [],
   "source": [
    "# Create a Vector\n",
    "vector = tf.constant([10,10])\n",
    "vector"
   ]
  },
  {
   "cell_type": "code",
   "execution_count": null,
   "metadata": {},
   "outputs": [],
   "source": [
    "# Check the dimension of a Vector\n",
    "vector.ndim()"
   ]
  },
  {
   "cell_type": "code",
   "execution_count": null,
   "metadata": {},
   "outputs": [],
   "source": [
    "# Create a Matrix\n",
    "matrix = tf.constant([10,10],\n",
    "                     [7,10])\n",
    "matrix"
   ]
  },
  {
   "cell_type": "code",
   "execution_count": null,
   "metadata": {},
   "outputs": [],
   "source": [
    "# Another Matrix with data type\n",
    "anotherMatrix = tf.constant([[10.,7.],\n",
    "                            [3., 2.],\n",
    "                            [8., 9.]], dtype=tf.float16) # specify the data type\n",
    "anotherMatrix"
   ]
  },
  {
   "cell_type": "markdown",
   "metadata": {},
   "source": [
    "### What we have created so far:\n",
    "\n",
    "* Scalar : a single number\n",
    "* Vector : a number with direction (e.g wind speed) and directions\n",
    "* Matrix : a 2-dimensional array of numbers\n",
    "* Tensor: an n-dimensional array of numbers\n",
    "when n can be represent any number, \n",
    "- a 0-dimensional tensor is a scalar\n",
    "- a 1-dimensional tensor is a vector\n",
    "- a 2-dimensional tensor is a matrix"
   ]
  },
  {
   "cell_type": "markdown",
   "metadata": {},
   "source": [
    "### Creating random tensors\n",
    "\n",
    "Random Tensors are tensors of some arbitrary size which contains random numbers"
   ]
  },
  {
   "cell_type": "code",
   "execution_count": null,
   "metadata": {},
   "outputs": [],
   "source": [
    "# Create 2 random tensors\n",
    "\n",
    "random_1 = tf.random.Generator.from_seed(42) # set seed to reproducibly\n",
    "random_1 = random_1.normal(shape=(3,2))\n",
    "random_2 = tf.random.Generator.from_seed(42)\n",
    "random_2 = random_2.normal(shape=(3,2))"
   ]
  },
  {
   "cell_type": "markdown",
   "metadata": {},
   "source": [
    "### Shuffle the Order of elements in a Tensor"
   ]
  },
  {
   "cell_type": "code",
   "execution_count": null,
   "metadata": {},
   "outputs": [],
   "source": [
    "# Shuffle the order of elements in a Tensor\n",
    "# Youll need to do this in order to shuffle the data so the order of elements doesnt affect the learning\n",
    "\n",
    "not_shuffled= tf.constant([[10, 7],\n",
    "                           [3, 4],\n",
    "                           [2, 5]])\n",
    "\n",
    "not_shuffled.ndim\n",
    "\n",
    "# Shuffle the non-shuffled tensor\n",
    "tf.random.shuffle(not_shuffled)"
   ]
  },
  {
   "cell_type": "markdown",
   "metadata": {},
   "source": [
    "### Other Ways to make a Tensor"
   ]
  },
  {
   "cell_type": "code",
   "execution_count": null,
   "metadata": {},
   "outputs": [],
   "source": [
    "# Creates a Tensor with all the elements 1s\n",
    "tf.ones([10,7])"
   ]
  },
  {
   "cell_type": "code",
   "execution_count": null,
   "metadata": {},
   "outputs": [],
   "source": [
    "# Creates a Tensor with all the elements 0\n",
    "tf.zeros (shape=(3,4))"
   ]
  },
  {
   "cell_type": "markdown",
   "metadata": {},
   "source": [
    "### Turn numpy arrays in tensors\n",
    "\n",
    "The main difference between NumPy arrays and TensorFlow tensors, is that tensors can be run in a GPU\n",
    "(much faster for numerical computations)"
   ]
  },
  {
   "cell_type": "code",
   "execution_count": null,
   "metadata": {},
   "outputs": [],
   "source": [
    "# You can also can turn NumPy arrays into Tensors\n",
    "import numpy as np\n",
    "numpy_A =np.arange(1, 25, dtype=np.int32) # create a Numpy array between 1 and 25\n",
    "numpy_A\n",
    "\n",
    "# Capitalize the first represents a matrix\n",
    "# X = tf.constant(some_matrix)\n",
    "# A vector is represented with a non capitalized letter\n",
    "# y = tf.constant(vector)"
   ]
  },
  {
   "cell_type": "code",
   "execution_count": null,
   "metadata": {},
   "outputs": [],
   "source": [
    "A = tf.constant(numpy_A)\n",
    "A\n",
    "# shape = (2,3,4)\n",
    "# the first number 2, represents the number of dimensions e.g. [2, 5, 1]\n",
    "#                                                              [3, 55, 6],\n",
    "#                                                              [24, 53, 15],\n",
    "#                                                              [22, 5, 13]   \n",
    "# the second number 3, represents the number of rows\n",
    "# the third number 4, represents the number of columns         "
   ]
  },
  {
   "cell_type": "markdown",
   "metadata": {},
   "source": [
    "# Getting Information from Tensors\n",
    "\n",
    "When dealing with tensors you need to be aware of the following attributes: \n",
    "* Shape\n",
    "* Rank\n",
    "* Axis or Dimensions\n",
    "* Size\n",
    "\n",
    "- Shape = the length (number of elements) of each of the dimensions of a tensor. Code: tensor.shape\n",
    "- Rank = the number of tensor dimensions. \n",
    "A scalar has a rank of 0, \n",
    "A vecor has a rank of 1,\n",
    "A matrix has a rank of 2,\n",
    "A vector has a rank of n,\n",
    "Code: tensor.ndim\n",
    "- Axis or Dimension = a particular dimension of a tensor. Code: tensor[0]\n",
    "- Size = the total number of items in the tensor. Code: tf.size(tensor)"
   ]
  },
  {
   "cell_type": "code",
   "execution_count": null,
   "metadata": {},
   "outputs": [],
   "source": [
    "# Create a rank 4 tensor\n",
    "y = tf.zeros(shape=[2, 3, 4, 5])\n",
    "\n",
    "# Get varius attributes of our tensor\n",
    "print(\"Datatype of every element of the tensor: \", y.dtype)\n",
    "print(\"Number of dimensions: \", y.ndim)\n",
    "print(\"Shape of the tensor: \", y.shape)\n",
    "print(\"Elements along the zero axis: \", y.shape[0]) \n",
    "print(\"Elements along the last axis: \", y.shape[-1])\n",
    "print(\"Total number of elemnts in the tensor: \", tf.size(y).numpy())"
   ]
  },
  {
   "cell_type": "markdown",
   "metadata": {},
   "source": [
    "### Indexing Tensors"
   ]
  },
  {
   "cell_type": "code",
   "execution_count": null,
   "metadata": {},
   "outputs": [],
   "source": [
    "# Tipically in python, for first 2 elements\n",
    "some_list= [1, 2, 3, 4, 5, 6, 7]\n",
    "some_list[:2]"
   ]
  },
  {
   "cell_type": "code",
   "execution_count": null,
   "metadata": {},
   "outputs": [],
   "source": [
    "# Get the first 2 elements of each dimension\n",
    "\n",
    "y[:2, :2, :2, :2]"
   ]
  },
  {
   "cell_type": "code",
   "execution_count": null,
   "metadata": {},
   "outputs": [],
   "source": [
    "# Get the first element of each dimension from each index expect the final one\n",
    "y[:1, :1, :1]"
   ]
  },
  {
   "cell_type": "code",
   "execution_count": null,
   "metadata": {},
   "outputs": [],
   "source": [
    "# Tipically in python for last item\n",
    "some_list= [1, 2, 3, 4, 5, 6, 7]\n",
    "some_list[:-1]"
   ]
  },
  {
   "cell_type": "code",
   "execution_count": null,
   "metadata": {},
   "outputs": [],
   "source": [
    "# Add in extra dimension to our rank 2 tensor\n",
    "rank_2_tensor = tf.constant([[10, 7], [3, 4]])\n",
    "\n",
    "rank_3_tensor = rank_2_tensor[..., tf.newaxis]\n",
    "\n",
    "rank_2_tensor\n",
    "\n",
    "# Alternative to tf.newaxis\n",
    "tf.expand_dims(rank_2_tensor, axis=-1) #-1, because we expand on the final axis"
   ]
  },
  {
   "cell_type": "markdown",
   "metadata": {},
   "source": [
    "### Manipulating tensors (tensor operations)\n",
    "* Basic Operations"
   ]
  },
  {
   "cell_type": "code",
   "execution_count": null,
   "metadata": {},
   "outputs": [],
   "source": [
    "# Add values to a tensor using the addition operator\n",
    "tensor = tf.constant([[10, 7], [3, 4]])\n",
    "tensor + 10 # Add 10 to each element of the tensor"
   ]
  },
  {
   "cell_type": "code",
   "execution_count": null,
   "metadata": {},
   "outputs": [],
   "source": [
    "# Multiplication\n",
    "tensor * 10 # Multiplies each element of the tensor with 10\n",
    "# Or build in functions\n",
    "tf.multiply(tensor, 10) # this is faster than * 10"
   ]
  },
  {
   "cell_type": "code",
   "execution_count": null,
   "metadata": {},
   "outputs": [],
   "source": [
    "# Subtraction\n",
    "tensor - 10 # Subtracts each element of the tensor with 10"
   ]
  },
  {
   "cell_type": "markdown",
   "metadata": {},
   "source": [
    "## Matrix multiplication\n",
    "In machine learning , matrix manipulation is one of the most common tensor operations."
   ]
  },
  {
   "cell_type": "markdown",
   "metadata": {},
   "source": [
    "###  Matrix multiplication rules:\n",
    "\n",
    "* To perform matrix multiplication, the first matrix must have the same number of columns as the second matrix has rows\n",
    "* The number of rows of the resulting matrix equals the number of rows of the first matrix, and the number of columns of the resulting matrix equals the number of columns of the second matrix\n",
    "\n",
    "- So a 3 × 5 matrix could be multiplied by a 5 × 7 matrix, forming a 3 × 7 matrix, but one cannot multiply a 2 × 8 matrix with a 4 × 2 matrix. To find the entries in the resulting matrix, simply take the dot product of the corresponding row of the first matrix and the corresponding column of the second matrix.\n",
    "\n",
    "To resume:\n",
    "* The inner dimensions must match\n",
    "* The resulting matrix has the shape of outer dimensions"
   ]
  },
  {
   "cell_type": "code",
   "execution_count": null,
   "metadata": {},
   "outputs": [],
   "source": [
    "tf.matmul(tensor, tensor) "
   ]
  },
  {
   "cell_type": "code",
   "execution_count": null,
   "metadata": {},
   "outputs": [],
   "source": [
    "#Exercise\n",
    "tensor1 = tf.constant([[1, 2, 5], [7, 2, 1], [3, 3, 3]])\n",
    "tensor2 = tf.constant([[3, 5], [6, 7], [1, 8]])\n",
    "tf.matmul(tensor1, tensor2) \n",
    "\n",
    "#Or you could just do\n",
    "tensor1 @ tensor2"
   ]
  },
  {
   "cell_type": "markdown",
   "metadata": {},
   "source": [
    "## Additional Notes\n",
    "\n",
    "### Difference between tf.transpose() and tf.reshape()\n",
    "The transpose of the matix flips the axis of the matrix, meanwhile the reshape shuffles the tensor around into the specified shape"
   ]
  },
  {
   "cell_type": "markdown",
   "metadata": {},
   "source": [
    "## The Dot product\n",
    "Matrix multiplication is also referenced as a dot product\n",
    "\n",
    "* `tf.matmul()`\n",
    "* `tf.tensordot()`"
   ]
  },
  {
   "cell_type": "code",
   "execution_count": null,
   "metadata": {},
   "outputs": [],
   "source": [
    "tf.tensordot(tf.transpose(tensor1), tensor2, axes=1)"
   ]
  },
  {
   "cell_type": "markdown",
   "metadata": {},
   "source": [
    "## Mixed precision \n",
    "\n",
    "Mixed precision is the use of both 16-bit and 32-bit floating-point types in a model during training to make it run faster and use less memory. By keeping certain parts of the model in the 32-bit types for numeric stability, the model will have a lower step time and train equally as well in terms of the evaluation metrics such as accuracy. \n"
   ]
  },
  {
   "cell_type": "code",
   "execution_count": null,
   "metadata": {},
   "outputs": [],
   "source": [
    "### Changing the data type of a tensor\n",
    "B = tf.constant([1.7, 7.4])\n",
    "C = tf.cast(B, dtype=tf.float16)\n",
    "C"
   ]
  },
  {
   "cell_type": "markdown",
   "metadata": {},
   "source": [
    "## Tensor Aggregation\n",
    "\n",
    "Aggregation of tensors = condensing them from multiple values down to a smaller amount of values"
   ]
  },
  {
   "cell_type": "code",
   "execution_count": null,
   "metadata": {},
   "outputs": [],
   "source": [
    "# Get the abolute values\n",
    "D = tf.constant([-7, -10])\n",
    "tf.abs(D)"
   ]
  },
  {
   "cell_type": "markdown",
   "metadata": {},
   "source": [
    "### Other forms of aggregation\n",
    "\n",
    "* Get the minimum\n",
    "* Get the maximum\n",
    "* Get the mean of a tensor\n",
    "* Get the sum of a tensor"
   ]
  },
  {
   "cell_type": "code",
   "execution_count": null,
   "metadata": {},
   "outputs": [],
   "source": [
    "# Creating a random tensor\n",
    "E = tf.constant(np.random.randint(0, 100, size=50))\n",
    "E"
   ]
  },
  {
   "cell_type": "code",
   "execution_count": null,
   "metadata": {},
   "outputs": [],
   "source": [
    "# Find the minimum\n",
    "tf.reduce_min(E)"
   ]
  },
  {
   "cell_type": "code",
   "execution_count": null,
   "metadata": {},
   "outputs": [],
   "source": [
    "# Find the maximum\n",
    "tf.reduce_max(E)"
   ]
  },
  {
   "cell_type": "code",
   "execution_count": null,
   "metadata": {},
   "outputs": [],
   "source": [
    "# Find the mean\n",
    "tf.reduce_mean(E)"
   ]
  },
  {
   "cell_type": "code",
   "execution_count": null,
   "metadata": {},
   "outputs": [],
   "source": [
    "# Find the sum\n",
    "tf.reduce_sum(E)"
   ]
  },
  {
   "cell_type": "code",
   "execution_count": null,
   "metadata": {},
   "outputs": [],
   "source": [
    "# Find the standard deviation\n",
    "tf.math.reduce_std(E)"
   ]
  },
  {
   "cell_type": "code",
   "execution_count": null,
   "metadata": {},
   "outputs": [],
   "source": [
    "# Find the variance\n",
    "tf.math.reduce_variance(E)"
   ]
  },
  {
   "cell_type": "markdown",
   "metadata": {},
   "source": [
    "## Find the possitional maximum and minimum"
   ]
  },
  {
   "cell_type": "code",
   "execution_count": null,
   "metadata": {},
   "outputs": [],
   "source": [
    "F = tf.random.uniform(shape=[50])\n",
    "F"
   ]
  },
  {
   "cell_type": "code",
   "execution_count": null,
   "metadata": {},
   "outputs": [],
   "source": [
    "# Find the possitional maximum\n",
    "tf.argmax(F)\n",
    "\n",
    "# Index of this max vaule\n",
    "F[tf.argmax(F)]\n",
    "\n",
    "# Check for equality\n",
    "assert F[tf.argmax(F)] == tf.reduce_max(F)"
   ]
  },
  {
   "cell_type": "code",
   "execution_count": null,
   "metadata": {},
   "outputs": [],
   "source": [
    "# Find the possitional minimum\n",
    "tf.argmin(F)\n",
    "\n",
    "# Index of this min vaule\n",
    "F[tf.argmin(F)]\n",
    "\n",
    "# Check for equality\n",
    "assert F[tf.argmin(F)] == tf.reduce_min (F)"
   ]
  },
  {
   "cell_type": "markdown",
   "metadata": {},
   "source": [
    "## Squizing a tensor\n",
    "Removing all single diensions from the shape of the tensor"
   ]
  },
  {
   "cell_type": "code",
   "execution_count": null,
   "metadata": {},
   "outputs": [],
   "source": [
    "G = tf.constant(tf.random.uniform(shape=50), shape=(1, 1, 1, 1, 50))\n",
    "G"
   ]
  },
  {
   "cell_type": "code",
   "execution_count": null,
   "metadata": {},
   "outputs": [],
   "source": [
    "G_squeezed = tf.squeeze(G)\n",
    "G_squeezed"
   ]
  },
  {
   "cell_type": "markdown",
   "metadata": {},
   "source": [
    "##  One hot encoding\n",
    "\n",
    "One Hot Encoding is a common way of preprocessing categorical features for machine learning models. This type of encoding creates a new binary feature for each possible category and assigns a value of 1 to the feature of each sample that corresponds to its original category. "
   ]
  },
  {
   "cell_type": "code",
   "execution_count": null,
   "metadata": {},
   "outputs": [],
   "source": [
    "# Create a list\n",
    "some_list = [0, 1, 2, 3, 4, 5, 6, 7, 8, 9]\n",
    "\n",
    "# One hot encoding the list\n",
    "tf.one_hot(some_list, depth = 10) #depth = 10, is the number of elements in the list"
   ]
  }
 ],
 "metadata": {
  "kernelspec": {
   "display_name": "base",
   "language": "python",
   "name": "python3"
  },
  "language_info": {
   "codemirror_mode": {
    "name": "ipython",
    "version": 3
   },
   "file_extension": ".py",
   "mimetype": "text/x-python",
   "name": "python",
   "nbconvert_exporter": "python",
   "pygments_lexer": "ipython3",
   "version": "3.11.5"
  }
 },
 "nbformat": 4,
 "nbformat_minor": 2
}
