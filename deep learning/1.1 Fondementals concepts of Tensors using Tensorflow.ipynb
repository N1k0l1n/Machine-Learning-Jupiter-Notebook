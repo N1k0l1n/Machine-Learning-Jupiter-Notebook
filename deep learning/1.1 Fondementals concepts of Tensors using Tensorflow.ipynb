{
 "cells": [
  {
   "cell_type": "markdown",
   "metadata": {},
   "source": [
    "# Fondementals concepts of Tensors using Tensorflow\n",
    "\n",
    "Table of Content: \n",
    "* Introduction to tensors\n",
    "* Getting information about tensors\n",
    "* Maniplulating tensors\n",
    "* Tensors and Numpy\n",
    "* Using @tf.function\n",
    "* Using GPU with Tensorflow (TPU)\n",
    "* Exercises\n"
   ]
  },
  {
   "cell_type": "markdown",
   "metadata": {},
   "source": [
    "# Intruction to Tensors"
   ]
  },
  {
   "cell_type": "code",
   "execution_count": null,
   "metadata": {},
   "outputs": [],
   "source": [
    "import tensorflow as tf\n",
    "print(tf.__version__)"
   ]
  },
  {
   "cell_type": "code",
   "execution_count": null,
   "metadata": {},
   "outputs": [],
   "source": [
    "# Create Tensor with tf.constant()\n",
    "scalar = tf.constant(7)\n",
    "scalar"
   ]
  },
  {
   "cell_type": "code",
   "execution_count": null,
   "metadata": {},
   "outputs": [],
   "source": [
    "# Check Number of Dimensions in a Tensor\n",
    "scalar.ndim()"
   ]
  },
  {
   "cell_type": "code",
   "execution_count": null,
   "metadata": {},
   "outputs": [],
   "source": [
    "# Create a Vector\n",
    "vector = tf.constant([10,10])\n",
    "vector"
   ]
  },
  {
   "cell_type": "code",
   "execution_count": null,
   "metadata": {},
   "outputs": [],
   "source": [
    "# Check the dimension of a Vector\n",
    "vector.ndim()"
   ]
  },
  {
   "cell_type": "code",
   "execution_count": null,
   "metadata": {},
   "outputs": [],
   "source": [
    "# Create a Matrix\n",
    "matrix = tf.constant([10,10],\n",
    "                     [7,10])\n",
    "matrix"
   ]
  },
  {
   "cell_type": "code",
   "execution_count": null,
   "metadata": {},
   "outputs": [],
   "source": [
    "# Another Matrix with data type\n",
    "anotherMatrix = tf.constant([[10.,7.],\n",
    "                            [3., 2.],\n",
    "                            [8., 9.]], dtype=tf.float16) # specify the data type\n",
    "anotherMatrix"
   ]
  },
  {
   "cell_type": "markdown",
   "metadata": {},
   "source": [
    "### What we have created so far:\n",
    "\n",
    "* Scalar : a single number\n",
    "* Vector : a number with direction (e.g wind speed) and directions\n",
    "* Matrix : a 2-dimensional array of numbers\n",
    "* Tensor: an n-dimensional array of numbers\n",
    "when n can be represent any number, \n",
    "- a 0-dimensional tensor is a scalar\n",
    "- a 1-dimensional tensor is a vector\n",
    "- a 2-dimensional tensor is a matrix"
   ]
  }
 ],
 "metadata": {
  "kernelspec": {
   "display_name": "base",
   "language": "python",
   "name": "python3"
  },
  "language_info": {
   "codemirror_mode": {
    "name": "ipython",
    "version": 3
   },
   "file_extension": ".py",
   "mimetype": "text/x-python",
   "name": "python",
   "nbconvert_exporter": "python",
   "pygments_lexer": "ipython3",
   "version": "3.11.5"
  }
 },
 "nbformat": 4,
 "nbformat_minor": 2
}
