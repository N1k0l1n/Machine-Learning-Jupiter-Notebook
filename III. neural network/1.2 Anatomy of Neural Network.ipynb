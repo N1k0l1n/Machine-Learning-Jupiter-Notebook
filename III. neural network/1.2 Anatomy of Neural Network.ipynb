{
 "cells": [
  {
   "cell_type": "markdown",
   "metadata": {},
   "source": [
    "# Anatomy of Neural Networks \n",
    "<img src=\"https://static.sciencelearn.org.nz/images/images/000/005/156/full/ART_Artificial_intelligence_Neural_network_explain_%281%29.png?1678746405\" alt=\"Anatomyt\" />\n"
   ]
  }
 ],
 "metadata": {
  "language_info": {
   "name": "python"
  }
 },
 "nbformat": 4,
 "nbformat_minor": 2
}
