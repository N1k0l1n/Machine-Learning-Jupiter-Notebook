{
 "cells": [
  {
   "cell_type": "markdown",
   "metadata": {},
   "source": [
    "# Intruduction to Regression with Neural Network in TensorFlow\n",
    "\n",
    "There are many definitions for a regression problem but in our case, we are going to simplyfy it:\n",
    "predicting a numerical variable based on some other combination of variables, even shorter... predict a number."
   ]
  },
  {
   "cell_type": "code",
   "execution_count": null,
   "metadata": {},
   "outputs": [],
   "source": [
    "# Import TensorFlow\n",
    "import tensorflow as tf"
   ]
  },
  {
   "cell_type": "markdown",
   "metadata": {},
   "source": [
    "## Create data to view and fit"
   ]
  },
  {
   "cell_type": "code",
   "execution_count": null,
   "metadata": {},
   "outputs": [],
   "source": [
    "import numpy as np\n",
    "import matplotlib.pyplot as plt\n",
    "\n",
    "#Create features\n",
    "X = np.array([-7.0, -4.0, -1.0, 2.0  , 5.0, 8.0, 11.0, 14.0])\n",
    "\n",
    "# Create labels\n",
    "y  = np.array([3.0, 6.0, 9.0, 12.0 , 15.0, 18.0, 21.0, 24.0])\n",
    "\n",
    "# Visualize it\n",
    "plt.scatter(X, y)"
   ]
  },
  {
   "cell_type": "code",
   "execution_count": null,
   "metadata": {},
   "outputs": [],
   "source": [
    "# The relationship between y  and x to get our neural network to work is:\n",
    "y == X + 10"
   ]
  },
  {
   "cell_type": "markdown",
   "metadata": {},
   "source": [
    "### Input and Output shapes"
   ]
  },
  {
   "cell_type": "code",
   "execution_count": null,
   "metadata": {},
   "outputs": [],
   "source": [
    "# Create a demo tesnor for our housing price prediction problem\n",
    "house_info = tf.constant([\"bedroom\", \"bathroom\", \"garage\"])\n",
    "house_price = tf.constant([939700]) # real house price in dollars\n",
    "house_info, house_price"
   ]
  },
  {
   "cell_type": "code",
   "execution_count": null,
   "metadata": {},
   "outputs": [],
   "source": [
    "input_shape = X.shape()\n",
    "output_shape = y.shape()"
   ]
  },
  {
   "cell_type": "code",
   "execution_count": null,
   "metadata": {},
   "outputs": [],
   "source": [
    "# Turn Numpy array into tensors with dtype of float32\n",
    "X = tf.cast(tf.constant(X), dtype = tf.float32)\n",
    "y = tf.cast(tf.constant(y), dtype = tf.float32)\n",
    "X, y"
   ]
  },
  {
   "cell_type": "code",
   "execution_count": null,
   "metadata": {},
   "outputs": [],
   "source": [
    "input_shape = X[0].shape\n",
    "output_shape = y[0].shape\n",
    "input_shape, output_shape"
   ]
  },
  {
   "cell_type": "markdown",
   "metadata": {},
   "source": [
    "## Steps in modeling with tensorflow\n",
    "\n",
    "1. `Crate a model` - define the input and output layers, as well as the hidden layers  of a deep learning model\n",
    "2. `Compile a model` - define the loss function ( in other words, the loss function tells our model how wrong it is) and the optimizer (tells our model how to improve the patterns its learning) and eveluation metrics (in other words, what we can use to interpret the performance of our model)\n",
    "3. `Fitting a model` - leeting the model try to find patterns between features and labels (X and y)"
   ]
  },
  {
   "cell_type": "markdown",
   "metadata": {},
   "source": [
    "#### Explain seed\n",
    "In TensorFlow, the term \"seed\" refers to a parameter used to initialize the internal random number generator.\n",
    "Setting a seed allows you to generate random numbers in a deterministic way, meaning that if you set the same seed and execute the same code multiple times, you'll get the same sequence of random numbers.\n",
    "Seeds are commonly used in machine learning and deep learning applications for reproducibility purposes. By fixing the seed, you ensure that your experiments produce the same results each time they are run, which is crucial for debugging, testing, and comparing different models or configurations."
   ]
  },
  {
   "cell_type": "code",
   "execution_count": null,
   "metadata": {},
   "outputs": [],
   "source": [
    "# Set random seed\n",
    "tf.random.set_seed(42)\n",
    "\n",
    "# Create a model using the Sequential API\n",
    "model = tf.keras.Sequential([\n",
    "    tf.keras.Dense(1)\n",
    "])\n",
    "\n",
    "# What the above code does, it peeks a model out of keras and with the dense method does the\n",
    "# distinguishing between 1 input and 1 output, in our case the very first elemts of X and y\n",
    "# X = np.array([-7.0, -4.0, -1.0, 2.0  , 5.0, 8.0, 11.0, 14.0])\n",
    "# y  = np.array([3.0, 6.0, 9.0, 12.0 , 15.0, 18.0, 21.0, 24.0])\n",
    "# So -7.0  and 3.0\n",
    "\n",
    "#2. Compile the model\n",
    "model.compile(\n",
    "    loss = tf.keras.losser.mae, # mae is short for mean absolute error\n",
    "    optimizer = tf.keras.optimizers.SGD(),# sgd is short for STOCHASTIC (random) gradient descent,\n",
    "                                          # and this line tells the model how should imporove\n",
    "    metrics=[\"mae\"]\n",
    "    )\n",
    "# 3. Fit the model\n",
    "model.fit(X, y, epochs= 5) # epochs is the number of repetitions throughout X and y data\n"
   ]
  },
  {
   "cell_type": "markdown",
   "metadata": {},
   "source": [
    "### Improvement of the model\n",
    "\n",
    "We can improve our model by adjusting the steps we took to create a model.\n",
    "\n",
    "1. Create a model => Here we can add more layers, increase the number of hidden units (also know as neurons) within each of those hidden layers, and change the activation function of each layer.\n",
    "2. Compaling a model => Here we might change the optimization function or perhaps \n",
    "`the learning rate` of the optimization function.\n",
    "3. Fitting a model => Here we might fit the model for more epochs (leave it training for longer) or give it more data ( give the model more data to train for)"
   ]
  },
  {
   "cell_type": "code",
   "execution_count": null,
   "metadata": {},
   "outputs": [],
   "source": []
  }
 ],
 "metadata": {
  "kernelspec": {
   "display_name": "base",
   "language": "python",
   "name": "python3"
  },
  "language_info": {
   "codemirror_mode": {
    "name": "ipython",
    "version": 3
   },
   "file_extension": ".py",
   "mimetype": "text/x-python",
   "name": "python",
   "nbconvert_exporter": "python",
   "pygments_lexer": "ipython3",
   "version": "3.11.5"
  }
 },
 "nbformat": 4,
 "nbformat_minor": 2
}
