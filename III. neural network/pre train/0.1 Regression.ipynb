{
 "cells": [
  {
   "cell_type": "markdown",
   "metadata": {},
   "source": [
    "# Regression\n",
    "\n",
    "`GLM (General Linear Model)` Overview\n",
    "\n",
    "Data = Model + Error"
   ]
  },
  {
   "cell_type": "markdown",
   "metadata": {},
   "source": [
    "`Model`\n",
    "Y = B + MX"
   ]
  },
  {
   "cell_type": "markdown",
   "metadata": {},
   "source": [
    "`Error = Devietion from the Model`\n",
    "Also know as the residual plot"
   ]
  },
  {
   "cell_type": "markdown",
   "metadata": {},
   "source": [
    "`OutLiers = Values of data that are far away from the rest of our data and can have an unique influence on the regression line`"
   ]
  },
  {
   "cell_type": "markdown",
   "metadata": {},
   "source": [
    "### Types of GLM\n",
    "* Linear Regression\n",
    "Composed of a `regression line`, which is a line thats as close as possible to all the data points at once.\n",
    "\n",
    "`Regression Line = Y-intercept + Coefficient * Correlation`\n",
    "\n",
    "Lets explain the formula compoents:\n",
    "- Y-intercept\n",
    "- Slope (Also known as the coefficient)\n",
    "- Correlation\n",
    "- Error"
   ]
  },
  {
   "cell_type": "markdown",
   "metadata": {},
   "source": [
    "Lets use in a practical way\n",
    "We want to predict the list in our youtube video bassed on the number of comments we get.\n",
    "Based on the fromula above, we have the following formula:\n",
    "\n",
    "Y = B + MX\n",
    "\n",
    "- Y => Predicted Likes\n",
    "- B => Likes wif 0 comments\n",
    "- M => Coefficient\n",
    "- X => Increase in Likes per Comment"
   ]
  }
 ],
 "metadata": {
  "language_info": {
   "name": "python"
  }
 },
 "nbformat": 4,
 "nbformat_minor": 2
}
