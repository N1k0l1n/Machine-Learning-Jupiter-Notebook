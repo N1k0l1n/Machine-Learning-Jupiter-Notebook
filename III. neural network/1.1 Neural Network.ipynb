{
 "cells": [
  {
   "cell_type": "markdown",
   "metadata": {},
   "source": [
    "# Neural Network\n",
    "\n",
    "`Neural networks`, also known as artificial neural networks (ANNs) or simulated neural networks (SNNs), are a subset of machine learning and are at the heart of deep learning algorithms. Their name and structure are inspired by the human brain, mimicking the way that biological neurons signal to one another."
   ]
  },
  {
   "cell_type": "markdown",
   "metadata": {},
   "source": [
    "## Neural Network Regression Model\n",
    "\n",
    "#### Regression analysis\n",
    "In statistical modeling, `regression analysis` is a set of statistical processes for estimating the `relationships` between a `dependent variable` (often called the 'outcome' or 'response' variable, or a 'label' in machine learning parlance) and one or more `independent variables` (often called 'predictors', 'covariates', 'explanatory variables' or 'features')."
   ]
  },
  {
   "cell_type": "markdown",
   "metadata": {},
   "source": [
    "### Important Notes to the reader:\n",
    "In order to solve a problem , the typical roadmap of a `supervized learning` would be:\n",
    "\n",
    "* Inputs => Ml algorithm => Predicted Output\n",
    "\n",
    "How we should do it in a NNRM:\n",
    "- First, we need to do a numnerical encoding of the input. They should look like a tensor.\n",
    "We saw this earlier in One hot encoding (tf.one_hot).\n",
    "Now we call this : 'predictors', 'covariates', 'explanatory variables' or 'features'\n",
    "- Ml algorithm, this is tipicaly a pre build one, but you can also create one yourself\n",
    "- Predicted Output, they comes from looking at lots of actual outputs\n",
    "These are also known as : the 'outcome' or 'response' variable, or a 'label'"
   ]
  }
 ],
 "metadata": {
  "language_info": {
   "name": "python"
  }
 },
 "nbformat": 4,
 "nbformat_minor": 2
}
