{
 "cells": [
  {
   "cell_type": "markdown",
   "metadata": {},
   "source": [
    "# Confuison Matrix"
   ]
  },
  {
   "cell_type": "markdown",
   "metadata": {},
   "source": [
    "* `True positive` = in binary classification, when the model should predict 1 and the truth is 1\n",
    "* `True negative` = in binary classification, when the model should predict 0 and the truth is 0\n",
    "* `False positive` = in binary classification, when the model should predict 1 and the truth is 0\n",
    "* `False negative` = in binary classification, when the model should predict 0 and the truth is 1"
   ]
  },
  {
   "cell_type": "code",
   "execution_count": null,
   "metadata": {},
   "outputs": [],
   "source": [
    "from sklearn.datasets import make_circles\n",
    "\n",
    "# Make 1000 examples\n",
    "n_samples = 1000\n",
    "\n",
    "# Create circles\n",
    "X, y = make_circles(n_samples,\n",
    "                    noise=0.03,\n",
    "                    random_state=42)\n",
    "\n",
    "# Slipt into training data and test data\n",
    "X_train, y_train = X[:800], y[:800]\n",
    "X_test, y_test = X[800:], y[800:]"
   ]
  },
  {
   "cell_type": "code",
   "execution_count": null,
   "metadata": {},
   "outputs": [],
   "source": [
    "import tensorflow as tf\n",
    "\n",
    "# Set the random seed\n",
    "tf.ramdom.seed(42)\n",
    "\n",
    "# 1.Create the model usingthe Sequential API\n",
    "model_1 = tf.keras.Sequential([\n",
    "  tf.keras.layers.Dense(4, activation='relu'),\n",
    "  tf.keras.layers.Dense(4, activation='relu'),\n",
    "  tf.keras.layers.Dense(1, activation='sigmoid'),\n",
    "])\n",
    "\n",
    "#2. Compile the model\n",
    "model_1.compile(loss= \"binary_crossentropy\",\n",
    "                optimizers=tf.keras.optimizers.Adam(lr=0.02),\n",
    "                matrics=[\"accuracy\"])\n",
    "\n",
    "# 3. FIt the model\n",
    "model_1.fit(X_train, y_train, epochs=20)"
   ]
  },
  {
   "cell_type": "code",
   "execution_count": null,
   "metadata": {},
   "outputs": [],
   "source": [
    "# Create a confusion matrix\n",
    "from sklearn.metrics import confusion_matrix\n",
    "\n",
    "# Make predictions\n",
    "y_preds =  model_1.predict(X_test)\n",
    "\n",
    "# Create confusion matrix\n",
    "confusion_matrix(y_test, y_preds)"
   ]
  },
  {
   "cell_type": "markdown",
   "metadata": {},
   "source": [
    "Looks like our predictions array has come out in prediction propability form. The standard output from the sigmoid (or softmax) activation functions. So now we should convert them."
   ]
  },
  {
   "cell_type": "code",
   "execution_count": null,
   "metadata": {},
   "outputs": [],
   "source": [
    "# Convert the predictions probabilities to binary format and view the first 10\n",
    "tf.round(y_preds)[:10]"
   ]
  },
  {
   "cell_type": "code",
   "execution_count": null,
   "metadata": {},
   "outputs": [],
   "source": [
    "# Create confusion matrix\n",
    "confusion_matrix(y_test, tf.round(y_preds))"
   ]
  },
  {
   "cell_type": "markdown",
   "metadata": {},
   "source": [
    "We now will prettify the confusion matrix"
   ]
  },
  {
   "cell_type": "code",
   "execution_count": null,
   "metadata": {},
   "outputs": [],
   "source": [
    "import itertools\n",
    "import numpy as np\n",
    "import matplotlib.pyplot as plt\n",
    "\n",
    "\n",
    "figsize = (10, 10)\n",
    "\n",
    "# Create the confusion matrix\n",
    "cm = confusion_matrix(y_test, tf.round(y_preds))\n",
    "cm_norm = cm.astype(\"float\") / cm.sum(axis=1)[:, np.newaxis]\n",
    "n_classes = cm.shape[0]\n",
    "\n",
    "# Lets prettify it\n",
    "fig, ax = plt.subplots(figsize=figsize)\n",
    "\n",
    "# Create a matrix plot\n",
    "cax = ax.matshow(cm, cmap=plt.cm.Blues)\n",
    "fig.colorbar(cax)\n",
    "\n",
    "# Create classes\n",
    "classes = False\n",
    "\n",
    "if classes:\n",
    "    labels = classes\n",
    "else:\n",
    "    labels = np.arange(cm.shape[0])\n",
    "\n",
    "# Label the axis\n",
    "ax.set(title=\"Confusion Matrix\",\n",
    "       xlabel=\"Predicted Label\",\n",
    "       ylabel=\"True Label\",\n",
    "       xticks =np.arange(n_classes),\n",
    "       yticks =np.arange(n_classes),\n",
    "       xticklabels = labels,\n",
    "       yticklabels = labels)\n",
    "\n",
    "# Set the threshold for different colors\n",
    "threshold = (cm.max() + cm.min()) / 2.\n",
    "\n",
    "# Plot the text on each cell\n",
    "for i, j in itertools.product(range(cm.shape[0]), range(cm.shape[1])):\n",
    "    plt.text(j, i, f\"{cm[i, j]} ({cm_norm[i,j]*100:.1f}%)\",\n",
    "    horizontalalignment=\"center\",\n",
    "    color=\"white\" if cm[i, j] > threshold else \"black\",\n",
    "    size=15)"
   ]
  }
 ],
 "metadata": {
  "language_info": {
   "name": "python"
  }
 },
 "nbformat": 4,
 "nbformat_minor": 2
}
