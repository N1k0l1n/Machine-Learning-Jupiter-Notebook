{
 "cells": [
  {
   "cell_type": "markdown",
   "metadata": {},
   "source": [
    "# Neural Network Classification"
   ]
  },
  {
   "cell_type": "markdown",
   "metadata": {},
   "source": [
    "## What is a classification problem?\n",
    "\n",
    "There are many classification types of problems:\n",
    "* Binary classification (one thing or an other)\n",
    "* Multiclass classification (more than one thing or an other)\n",
    "* Multilabel classification (multiple label options per sample)"
   ]
  }
 ],
 "metadata": {
  "language_info": {
   "name": "python"
  }
 },
 "nbformat": 4,
 "nbformat_minor": 2
}
