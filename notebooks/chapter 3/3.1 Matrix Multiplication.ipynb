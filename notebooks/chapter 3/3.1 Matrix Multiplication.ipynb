{
 "cells": [
  {
   "cell_type": "markdown",
   "metadata": {},
   "source": [
    "# Matrix Multiplication"
   ]
  },
  {
   "cell_type": "markdown",
   "metadata": {},
   "source": [
    "## Matrix by Vector Multiplication"
   ]
  },
  {
   "cell_type": "code",
   "execution_count": null,
   "metadata": {
    "vscode": {
     "languageId": "javascript"
    }
   },
   "outputs": [],
   "source": [
    "// Define the matrix and vector\n",
    "const a = tf.tensor1d([1, 2]);\n",
    "const b = tf.tensor2d([[1, 2], [3, 4]]);\n",
    "\n",
    "// Perform matrix by vector multiplication\n",
    "a.dot(b).print();  // or tf.dot(a, b)"
   ]
  },
  {
   "cell_type": "markdown",
   "metadata": {},
   "source": [
    "## Matrix by Matrix Multiplication"
   ]
  },
  {
   "cell_type": "markdown",
   "metadata": {},
   "source": [
    "* Additional Notes\n",
    "a * b is not = b * a, therefore they are not commutative"
   ]
  },
  {
   "cell_type": "code",
   "execution_count": null,
   "metadata": {
    "vscode": {
     "languageId": "javascript"
    }
   },
   "outputs": [],
   "source": [
    "const b = tf.tensor2d([[1, 2], [3, 4]]);\n",
    "const c = tf.tensor2d([[1, 2, 3], [4, 5, 6]]);\n",
    "\n",
    "b.dot(c).print(); //or matMul\n"
   ]
  }
 ],
 "metadata": {
  "kernelspec": {
   "display_name": "Python 3",
   "language": "python",
   "name": "python3"
  },
  "language_info": {
   "name": "python",
   "version": "3.12.1"
  }
 },
 "nbformat": 4,
 "nbformat_minor": 2
}
