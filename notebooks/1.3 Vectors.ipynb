{
 "cells": [
  {
   "cell_type": "markdown",
   "metadata": {},
   "source": [
    "# Vectors (Rank 1 Tensors) \n"
   ]
  },
  {
   "cell_type": "markdown",
   "metadata": {},
   "source": [
    "## Vector Transposition\n"
   ]
  },
  {
   "cell_type": "code",
   "execution_count": null,
   "metadata": {},
   "outputs": [],
   "source": [
    "// Import TensorFlow.js\n",
    "const tf = require('@tensorflow/tfjs');\n",
    "\n",
    "// Create a 1D tensor (equivalent to a regular 1-D array)\n",
    "const x = tf.tensor1d([25, 2, 5]).print();\n",
    "\n",
    "// Transposing a regular 1-D array has no effect\n",
    "const x_t = x.transpose().print();\n",
    "\n",
    "\n",
    "//But this works\n",
    "const a = tf.tensor2d([1, 2, 3, 4, 5, 6], [2, 3]);\n",
    "a.transpose().print();  // or tf.transpose(a)\n",
    "\n",
    "// Create a 2D tensor (equivalent to a matrix with a single row)\n",
    "const y = tf.tensor2d([[25, 2, 5]]).print();\n",
    "console.log('Shape of y:', y.shape);\n",
    "\n",
    "// Transpose a matrix with a dimension of length 1\n",
    "const y_t = y.transpose().print();\n",
    "console.log('Shape of y_t:', y_t.shape); // This is a column vector as it has 3 rows and 1 column\n",
    "\n",
    "// Transpose the column vector back to the original row vector\n",
    "const y_original = y_t.transpose().print();\n",
    "console.log('Shape of y_original:', y_original.shape);"
   ]
  },
  {
   "cell_type": "markdown",
   "metadata": {},
   "source": [
    "## Zero Vectors\n",
    "Creates a tf.Tensor with all elements set to 0.\n",
    "\n",
    "Have no effect if added to another vector\n"
   ]
  },
  {
   "cell_type": "code",
   "execution_count": null,
   "metadata": {},
   "outputs": [],
   "source": [
    "// Import TensorFlow.js\n",
    "const tf = require('@tensorflow/tfjs');\n",
    "\n",
    "// Create a zero vector with 3 elements\n",
    "const z_tf = tf.zeros([2, 2]).print();"
   ]
  }
 ],
 "metadata": {
  "language_info": {
   "name": "python"
  }
 },
 "nbformat": 4,
 "nbformat_minor": 2
}
