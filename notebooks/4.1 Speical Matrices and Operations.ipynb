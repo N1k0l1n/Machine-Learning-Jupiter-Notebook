{
 "cells": [
  {
   "cell_type": "markdown",
   "metadata": {},
   "source": [
    "# Special Matrices and Matrix Operations"
   ]
  },
  {
   "cell_type": "markdown",
   "metadata": {},
   "source": [
    "## The Frobenius Norm\n",
    "\n",
    "The Frobenius norm, sometimes also called the Euclidean norm (a term unfortunately also used for the vector L^2-norm), is matrix norm of an m×n matrix A defined as the square root of the sum of the absolute squares of its elements.\n",
    "\n",
    "The Frobenius norm can also be considered as a vector norm.\n",
    "\n",
    "It is also equal to the square root of the matrix trace of AA^(H), where A^(H) is the conjugate transpose.\n",
    "The Frobenius norm of a matrix m is implemented as Norm[m, \"Frobenius\"] and of a vector v as Norm[v, \"Frobenius\"]."
   ]
  },
  {
   "cell_type": "code",
   "execution_count": null,
   "metadata": {
    "vscode": {
     "languageId": "javascript"
    }
   },
   "outputs": [],
   "source": [
    "\n",
    "const x = tf.tensor2d([[1, 2], [3, 4]]);\n",
    "\n",
    "// What it actually does\n",
    "//  √(1*1 + 2*2 + 3*3 + 4*4)\n",
    "// √30\n",
    "\n",
    "x.norm().print();  // or tf.norm(x)"
   ]
  },
  {
   "cell_type": "markdown",
   "metadata": {},
   "source": [
    "* Additional notes from TensorFlow Js Guide\n",
    "Computes the norm of scalar, vectors, and matrices. This function can compute several different vector norms (the 1-norm, the Euclidean or 2-norm, the inf-norm, and in general the p-norm for p > 0) and matrix norms (Frobenius, 1-norm, and inf-norm)."
   ]
  },
  {
   "cell_type": "markdown",
   "metadata": {},
   "source": [
    "## Matrix Inversion\n",
    "\n",
    "An inverse matrix is a matrix that when multiplied with a given matrix gives the identity matrix. Mathematically this can be written as A - 1 A = I ,where is an square matrix. The equation of an inverse matrix is. If the determinant , then the inverse matrix does not exist."
   ]
  },
  {
   "cell_type": "code",
   "execution_count": null,
   "metadata": {
    "vscode": {
     "languageId": "javascript"
    }
   },
   "outputs": [],
   "source": [
    "const x = tf.tensor2d([[ 4,  2], [-5, -3]]);\n",
    "//Does not exist in tensorflow js\n",
    "let y = tf.linalg.inv(x);\n",
    "y.print()"
   ]
  },
  {
   "cell_type": "markdown",
   "metadata": {},
   "source": [
    "## Matrix Inversion with no Solution\n",
    "\n",
    "In linear algebra, a singular matrix, also known as a non-invertible or degenerate matrix, is a square matrix that does not have an inverse. This means that there exists no matrix that can multiply with the singular matrix to produce the identity matrix.\n",
    "\n",
    "In the case of TensorFlow.js, attempting to compute the inverse of a singular matrix using tf.linalg.inv() will result in an error or an output indicating that the matrix is singular."
   ]
  },
  {
   "cell_type": "code",
   "execution_count": null,
   "metadata": {
    "vscode": {
     "languageId": "javascript"
    }
   },
   "outputs": [],
   "source": [
    "// Define the input matrix\n",
    "const x = tf.tensor2d([[ -4,  -1], [-8, 2]]);\n",
    "\n",
    "// Attempt to compute the inverse\n",
    "try {\n",
    "    const inverse = tf.linalg.inv(x);\n",
    "    inverse.print();\n",
    "} catch (error) {\n",
    "    console.log(\"The matrix is singular and cannot be inverted.\");\n",
    "}"
   ]
  },
  {
   "cell_type": "markdown",
   "metadata": {},
   "source": [
    "* It's important to note that a singular matrix represents a system of linear equations that either has no solution or has infinitely many solutions, depending on the specific context of the problem."
   ]
  }
 ],
 "metadata": {
  "kernelspec": {
   "display_name": "Python 3",
   "language": "python",
   "name": "python3"
  },
  "language_info": {
   "name": "python",
   "version": "3.12.1"
  }
 },
 "nbformat": 4,
 "nbformat_minor": 2
}
