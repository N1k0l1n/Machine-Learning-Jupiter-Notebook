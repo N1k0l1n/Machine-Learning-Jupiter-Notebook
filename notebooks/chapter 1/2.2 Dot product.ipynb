{
 "cells": [
  {
   "cell_type": "markdown",
   "metadata": {},
   "source": [
    "# The Dot Product\n",
    "\n",
    "If we have two vectors (say, *x* and *y) with the same length n*, we can calculate the dot product between them. This is annotated several different ways, including the following:\n",
    "\n",
    "* x * y\n",
    "\n",
    "* xT * y\n",
    "\n",
    "* (x,y)\n",
    "\n",
    "Regardless which notation you use (I prefer the first), the calculation is the same; we calculate products in an element-wise fashion and then sum reductively across the products to a scalar value. \n",
    "\n",
    "The dot product is ubiquitous in deep learning: It is performed at every artificial neuron in a deep neural network, which may be made up of millions (or orders of magnitude more) of these neurons."
   ]
  },
  {
   "cell_type": "markdown",
   "metadata": {},
   "source": [
    "## Dot product of vectors:"
   ]
  },
  {
   "cell_type": "code",
   "execution_count": null,
   "metadata": {
    "vscode": {
     "languageId": "javascript"
    }
   },
   "outputs": [],
   "source": [
    "const a = tf.tensor1d([1, 2, 3]);\n",
    "const b = tf.tensor1d([4, 5, 6]);\n",
    "\n",
    "const dotProduct = a.dot(b);\n",
    "\n",
    "// Print the dot product\n",
    "dotProduct.print(); // Output: 32\n",
    "\n",
    "//This code defines two vectors a and b and calculates their dot product using the dot method. \n",
    "// The dot product of two vectors is the sum of the product of corresponding elements. \n",
    "//In this case, 1 * 4 + 2 * 5 + 3 * 6 = 32."
   ]
  },
  {
   "cell_type": "markdown",
   "metadata": {},
   "source": [
    "## Dot product of matrices:"
   ]
  },
  {
   "cell_type": "code",
   "execution_count": null,
   "metadata": {
    "vscode": {
     "languageId": "javascript"
    }
   },
   "outputs": [],
   "source": [
    "const a = tf.tensor2d([[1, 2], [3, 4]]);\n",
    "const b = tf.tensor2d([[5, 7], [6, 8]]);\n",
    "\n",
    "\n",
    "  a.matMul(b).print();  // or tf.matMul(a, b)  Output: [[19, 23], [39, 53]]\n",
    "\n",
    "// This code defines two matrices A and B and calculates their dot product using the matMul method. \n",
    "//The dot product of two matrices is a new matrix where each element is the dot product of the corresponding rows and columns from the original matrices. \n",
    "//In this case, the resulting matrix contains element-wise calculations like :\n",
    "//Perform the matrix multiplication manually to verify the expected output:\n",
    "// (1 * 5 + 2 * 7) = 19\n",
    "// (1 * 7 + 2 * 8) = 23\n",
    "// (3 * 5 + 4 * 6) = 39\n",
    "// (3 * 7 + 4 * 8) = 53"
   ]
  },
  {
   "cell_type": "markdown",
   "metadata": {},
   "source": [
    "## Additional Points:\n",
    "\n",
    "* TensorFlow.js also provides the tensordot function for more versatile dot product operations with custom axis specifications.\n",
    "* Remember to ensure compatible dimensions for the tensors when performing dot products.\n",
    "* Dot products are useful in various machine learning tasks involving feature combinations and similarity measures."
   ]
  }
 ],
 "metadata": {
  "language_info": {
   "name": "python"
  }
 },
 "nbformat": 4,
 "nbformat_minor": 2
}
