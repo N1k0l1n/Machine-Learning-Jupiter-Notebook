{
 "cells": [
  {
   "cell_type": "markdown",
   "metadata": {},
   "source": [
    "# Exercises\n",
    "\n",
    "1- What is the transpose of this vector?\n",
    "[25,2,-3,23]\n",
    "\n",
    "2- Using alebraic notation, what are the dimensions of this matrix Y?\n",
    "\n",
    "y= ([42,4,7,99][-99,-3, 17,22])\n",
    "\n",
    "3- Using alebraic notation, what is the position of the element in this matrix Y with the value of 17?"
   ]
  },
  {
   "cell_type": "code",
   "execution_count": null,
   "metadata": {
    "vscode": {
     "languageId": "javascript"
    }
   },
   "outputs": [],
   "source": [
    "//Solution for exercise 1\n",
    "const x = tf.tensor1d([25,3,-6,-23]);\n",
    "const y = x.transpose().print();"
   ]
  },
  {
   "cell_type": "code",
   "execution_count": null,
   "metadata": {
    "vscode": {
     "languageId": "javascript"
    }
   },
   "outputs": [],
   "source": [
    "//Solution for exercise 2\n",
    "const tensor2D = tf.tensor2d([[42, 4, 7, 99], [-99, -3, 17, 22]]);\n",
    "const dimensions = tensor2D.shape;\n",
    "console.log('Dimensions:', dimensions);"
   ]
  },
  {
   "cell_type": "code",
   "execution_count": null,
   "metadata": {
    "vscode": {
     "languageId": "javascript"
    }
   },
   "outputs": [],
   "source": [
    "//Solution for exercise 2\n",
    "const tensor2D = tf.tensor2d([[42, 4, 7, 99], [-99, -3, 17, 22]]);\n",
    "const dimensions = tensor2D.shape;\n",
    "console.log('Dimensions:', dimensions);"
   ]
  },
  {
   "cell_type": "code",
   "execution_count": null,
   "metadata": {
    "vscode": {
     "languageId": "javascript"
    }
   },
   "outputs": [],
   "source": [
    "//Solution for exercise 3\n",
    "const y = tf.tensor2d([[42, 4, 7, 99], [-99, -3, 17, 22]]);\n",
    "\n",
    "  // Log the tensor's data for visual inspection\n",
    "  y.print();\n",
    "\n",
    "  // Get the flat array of tensor data\n",
    "  const data = await y.data();\n",
    "  \n",
    "  // Find the index of the target value (17 in this case)\n",
    "  const targetValue = 17;\n",
    "  const index = data.indexOf(targetValue);\n",
    "\n",
    "  if (index !== -1) {\n",
    "    // Convert 1D index to row and column (1-based indexing)\n",
    "    const numColumns = y.shape[1];\n",
    "    const row = Math.floor(index / numColumns) + 1;\n",
    "    const col = index % numColumns + 1;\n",
    "\n",
    "    console.log(`Position of ${targetValue}: Row ${row}, Column ${col}`); //2,3\n",
    "  } else {\n",
    "    console.log(`${targetValue} not found in the matrix.`);\n",
    "  }"
   ]
  }
 ],
 "metadata": {
  "kernelspec": {
   "display_name": "Python 3",
   "language": "python",
   "name": "python3"
  },
  "language_info": {
   "codemirror_mode": {
    "name": "ipython",
    "version": 3
   },
   "file_extension": ".py",
   "mimetype": "text/x-python",
   "name": "python",
   "nbconvert_exporter": "python",
   "pygments_lexer": "ipython3",
   "version": "3.12.1"
  }
 },
 "nbformat": 4,
 "nbformat_minor": 2
}
