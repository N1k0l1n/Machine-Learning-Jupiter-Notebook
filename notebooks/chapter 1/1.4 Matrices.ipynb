{
 "cells": [
  {
   "cell_type": "markdown",
   "metadata": {},
   "source": [
    "# Matrices (Rank 2 Tensors)\n",
    "*  Matrices are two dimensional arrays of numbres.\n",
    "*  When we write them, we need to make sure that they are in bold, italic for ex: X\n",
    "*  In matrices, the height is given priority over the width in notation\n",
    "*  Individual scalar elements of a matrix are denoted in uppercase, italic only\n",
    "*  Column in a matrix represents an entire row or column"
   ]
  },
  {
   "cell_type": "code",
   "execution_count": null,
   "metadata": {
    "vscode": {
     "languageId": "javascript"
    }
   },
   "outputs": [],
   "source": [
    "// Creating a 2D tensor in TensorFlow.js\n",
    "const X_tf = tf.tensor2d([[25, 2], [5, 26], [3, 7]]);\n",
    "\n",
    "// Printing the tensor\n",
    "X_tf.print();\n",
    "\n",
    "// Finding the size of the tensor\n",
    "const size = X_tf.size;\n",
    "console.log('Size:', size);\n",
    "\n",
    "// Getting the rank of the tensor\n",
    "const rank = X_tf.rank();\n",
    "console.log('Rank:', rank);\n",
    "\n",
    "// Getting the shape of the tensor\n",
    "const shape = X_tf.shape;\n",
    "console.log('Shape:', shape);\n",
    "\n",
    "// Slicing the tensor to get the second row\n",
    "const rowSlice = X_tf.slice([1, 0], [1, X_tf.shape[1]]);\n",
    "rowSlice.print();"
   ]
  },
  {
   "cell_type": "markdown",
   "metadata": {},
   "source": [
    "## Find the position of an element in the matrix\n",
    "tf.where (condition, a, b) \n",
    "Returns the elements, either a or b depending on the condition.\n",
    "\n",
    "If the condition is true, select from a, otherwise select from b."
   ]
  },
  {
   "cell_type": "code",
   "execution_count": null,
   "metadata": {
    "vscode": {
     "languageId": "javascript"
    }
   },
   "outputs": [],
   "source": [
    "//Code Example from tensorflow js api\n",
    "const cond = tf.tensor1d([false, false, true], 'bool');\n",
    "const a = tf.tensor1d([1 , 2, 3]);\n",
    "const b = tf.tensor1d([-1, -2, -3]);\n",
    "\n",
    "a.where(cond, b).print();"
   ]
  },
  {
   "cell_type": "code",
   "execution_count": null,
   "metadata": {
    "vscode": {
     "languageId": "javascript"
    }
   },
   "outputs": [],
   "source": [
    "//Code Example for a use case\n",
    "//Finds a specific element in the matrix\n",
    "// Creating a 2D tensor in TensorFlow.js\n",
    "const tensor2D = tf.tensor2d([[42, 4, 7, 99], [-99, -3, 17, 22]]);\n",
    "\n",
    "// Finding the position of the value 17\n",
    "const indices = tf.where(tf.equal(tensor2D, 17));\n",
    "\n",
    "// Printing the indices\n",
    "indices.print();"
   ]
  },
  {
   "cell_type": "markdown",
   "metadata": {},
   "source": [
    "## Higher-Rank Tensors\n",
    "As an example, rank 4 tensors are common for images, where each dimension corresponds to:\n",
    "\n",
    "1.Number of images in training batch, e.g., 32\n",
    "2.Image height in pixels, e.g., 28 for MNIST digits\n",
    "3.Image width in pixels, e.g., 28\n",
    "4.Number of color channels, e.g., 3 for full-color images (RGB)"
   ]
  },
  {
   "cell_type": "markdown",
   "metadata": {},
   "source": [
    "### In this example:\n",
    "\n",
    "- tf.tensor4d is used to create a rank-4 tensor.\n",
    "\n",
    "- The data array represents two images, each with dimensions imageHeight x imageWidth and three channels (RGB).\n",
    "\n",
    "- The shape parameter is set to [batchSize, imageHeight, imageWidth, channels] to specify the dimensions of the tensor.\n",
    "\n",
    "This is a basic example, and you can customize the dimensions based on your specific use case and data. Remember to adjust the values in the data array and the dimensions according to your actual image data and requirements."
   ]
  },
  {
   "cell_type": "code",
   "execution_count": null,
   "metadata": {
    "vscode": {
     "languageId": "javascript"
    }
   },
   "outputs": [],
   "source": [
    "// Creating a rank-4 tensor for images using TensorFlow.js\n",
    "const batchSize = 2;\n",
    "const imageHeight = 64;\n",
    "const imageWidth = 64;\n",
    "const channels = 3; // RGB\n",
    "\n",
    "const rank4Tensor = tf.tensor4d(\n",
    "  [\n",
    "    // Batch 1\n",
    "    [\n",
    "      // Row 1\n",
    "      [255, 0, 0],  // Pixel 1 (RGB values)\n",
    "      [0, 255, 0],  // Pixel 2\n",
    "      // ... (more pixels)\n",
    "    ],\n",
    "    // Row 2\n",
    "    [\n",
    "      [0, 0, 255],  // Pixel 1\n",
    "      [255, 255, 0],  // Pixel 2\n",
    "      // ... (more pixels)\n",
    "    ],\n",
    "    // ... (more rows and images)\n",
    "  ],\n",
    "  [batchSize, imageHeight, imageWidth, channels]\n",
    ");\n",
    "\n",
    "// Printing the shape of the tensor\n",
    "console.log('Shape:', rank4Tensor.shape);\n"
   ]
  }
 ],
 "metadata": {
  "language_info": {
   "name": "python"
  }
 },
 "nbformat": 4,
 "nbformat_minor": 2
}
