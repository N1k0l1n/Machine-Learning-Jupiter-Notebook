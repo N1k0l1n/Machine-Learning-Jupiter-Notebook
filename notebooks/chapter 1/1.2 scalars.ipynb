{
 "cells": [
  {
   "cell_type": "markdown",
   "metadata": {},
   "source": [
    "# Scalars\n",
    "\n",
    "## Scalars (Rank 0 Tensors)\n",
    "\n"
   ]
  },
  {
   "cell_type": "markdown",
   "metadata": {},
   "source": [
    "### Integer scalar"
   ]
  },
  {
   "cell_type": "code",
   "execution_count": null,
   "metadata": {
    "vscode": {
     "languageId": "javascript"
    }
   },
   "outputs": [],
   "source": [
    "let x = 25;\n",
    "console.log(x); // Output: 25\n",
    "console.log(typeof x); // Output: number"
   ]
  },
  {
   "cell_type": "markdown",
   "metadata": {},
   "source": [
    "### Another integer scalar"
   ]
  },
  {
   "cell_type": "code",
   "execution_count": null,
   "metadata": {
    "vscode": {
     "languageId": "javascript"
    }
   },
   "outputs": [],
   "source": [
    "let y = 3;\n",
    "\n",
    "// Sum of integers\n",
    "let jsSum = x + y;\n",
    "console.log(jsSum); // Output: 28\n",
    "console.log(typeof jsSum); // Output: number"
   ]
  },
  {
   "cell_type": "markdown",
   "metadata": {},
   "source": [
    "## Scalars in TensorFlow.js (version 2.0 or later)\n",
    "\n",
    "In TensorFlow.js, tensors can be created using various wrappers, and some of the commonly used ones are:\n",
    "\n",
    "- `tf.variable`\n",
    "- `tf.scalar`\n",
    "\n",
    "For this example, we'll focus on `tf.variable`, which is similar to `tf.Variable` in TensorFlow for Python.\n",
    "\n"
   ]
  },
  {
   "cell_type": "markdown",
   "metadata": {},
   "source": [
    "### CDN"
   ]
  },
  {
   "cell_type": "code",
   "execution_count": null,
   "metadata": {
    "vscode": {
     "languageId": "html"
    }
   },
   "outputs": [],
   "source": [
    "<script src=\"https://cdn.jsdelivr.net/npm/@tensorflow/tfjs@3.9.0\"></script>\n"
   ]
  },
  {
   "cell_type": "markdown",
   "metadata": {},
   "source": [
    "### NPM package\n"
   ]
  },
  {
   "cell_type": "code",
   "execution_count": null,
   "metadata": {
    "vscode": {
     "languageId": "powershell"
    }
   },
   "outputs": [],
   "source": [
    "npm install @tensorflow/tfjs\n"
   ]
  },
  {
   "cell_type": "markdown",
   "metadata": {},
   "source": [
    "### CDN Example for Adding 2 Tensors"
   ]
  },
  {
   "cell_type": "code",
   "execution_count": null,
   "metadata": {
    "vscode": {
     "languageId": "javascript"
    }
   },
   "outputs": [],
   "source": [
    "\n",
    "        async function main() {\n",
    "          // Creating TensorFlow.js variables\n",
    "          const x = tf.scalar(25);\n",
    "          const y = tf.scalar(35);\n",
    "    \n",
    "          // Performing addition using tf.add\n",
    "          const sum = tf.add(x, y);\n",
    "    \n",
    "          // Displaying shapes and values\n",
    "          console.log('Shape of x:', x.shape);\n",
    "          console.log('Shape of y:', y.shape);\n",
    "          console.log('Shape of sum:', sum.shape);\n",
    "          console.log('Value of x:', x.dataSync()[0]);\n",
    "          console.log('Value of y:', y.dataSync()[0]);\n",
    "          console.log('Value of sum:', sum.dataSync()[0]);\n",
    "        }"
   ]
  },
  {
   "cell_type": "markdown",
   "metadata": {},
   "source": [
    "### Defining tf.Tensor object for initial value "
   ]
  },
  {
   "cell_type": "code",
   "execution_count": null,
   "metadata": {
    "vscode": {
     "languageId": "javascript"
    }
   },
   "outputs": [],
   "source": [
    "\n",
    "        async function main() {\n",
    "            // Defining tf.Tensor object for initial value \n",
    "            initialValue = tf.tensor([[1, 2], [3, 4]])\n",
    "\n",
    "            // Defining tf.Variable object  \n",
    "            let x = new tf.Variable(initialValue);\n",
    "\n",
    "            // Printing variables dtype \n",
    "            console.log(\"dtype:\", x.dtype)\n",
    "\n",
    "            // Printing variable shape \n",
    "            console.log(\"shape:\", x.shape)\n",
    "\n",
    "            // Printing the tf.Variable object \n",
    "            x.print()\n",
    "\n",
    "            // Defining new tf.Tensor object of same  \n",
    "            // shape as initial tf.Tensor \n",
    "            newValue = tf.tensor([[5, 6], [10, 11]])\n",
    "\n",
    "            // Assigning new value to the variable \n",
    "            x.assign(newValue)\n",
    "\n",
    "            // Printing the tf.Variable object \n",
    "            x.print()\n",
    "        }"
   ]
  }
 ],
 "metadata": {
  "language_info": {
   "name": "python"
  }
 },
 "nbformat": 4,
 "nbformat_minor": 2
}
