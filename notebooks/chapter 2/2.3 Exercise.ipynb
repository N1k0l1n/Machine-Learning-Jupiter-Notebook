{
 "cells": [
  {
   "cell_type": "markdown",
   "metadata": {},
   "source": [
    "# Exercises Chapter 2\n",
    "\n",
    "## Exercise 1\n",
    "* Whats is Y transpose for the given Y?"
   ]
  },
  {
   "cell_type": "code",
   "execution_count": null,
   "metadata": {},
   "outputs": [],
   "source": [
    "const Y = tf.tensor2d([[42, 4, 7, 99], [-99, -3, 17, 22]]);\n",
    "Y.transpose().print();\n",
    "\n",
    "//Tensor\n",
    "// [[42, -99],\n",
    "// [4 , -3 ],\n",
    "// [7 , 17 ],\n",
    "// [99, 22 ]]"
   ]
  },
  {
   "cell_type": "markdown",
   "metadata": {},
   "source": [
    "* Whats is the Hadamard product of these matrices?\n",
    "|25  10|  *  |-1  7|\n",
    "|-2   1|  *  |10  8|  "
   ]
  },
  {
   "cell_type": "markdown",
   "metadata": {},
   "source": [
    "* Exerse 2 Answer\n",
    "|-25  70|\n",
    "|-20   8|"
   ]
  },
  {
   "cell_type": "markdown",
   "metadata": {},
   "source": [
    "* What is dot product of these tensors (w, x)?"
   ]
  },
  {
   "cell_type": "code",
   "execution_count": null,
   "metadata": {},
   "outputs": [],
   "source": [
    "const w = tf.tensor1d([-1, 2, -2]);\n",
    "const x = tf.tensor1d([5, 10, 0]);\n",
    "\n",
    "w.dot(x).print();"
   ]
  }
 ],
 "metadata": {
  "language_info": {
   "name": "python"
  }
 },
 "nbformat": 4,
 "nbformat_minor": 2
}
