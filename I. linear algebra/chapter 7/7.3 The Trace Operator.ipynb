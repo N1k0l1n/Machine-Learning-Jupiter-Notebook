{
 "cells": [
  {
   "cell_type": "markdown",
   "metadata": {},
   "source": [
    "# The Trace Operator\n",
    "Denoted as Tr(A). Simply the sum of the diagonal elements of a matrix:\n",
    "Tr(A)=∑j⟨ϕj|A|ϕj"
   ]
  },
  {
   "cell_type": "code",
   "execution_count": null,
   "metadata": {
    "vscode": {
     "languageId": "javascript"
    }
   },
   "outputs": [],
   "source": [
    "const A = tf.tensor2d([[25, 2], [5, 4]])\n",
    "//Not exiting on TensorFlow Js\n",
    "A.trace().print();\n"
   ]
  },
  {
   "cell_type": "markdown",
   "metadata": {},
   "source": [
    "The trace operator has a number of useful properties that come in handy while rearranging linear algebra equations, e.g.:\n",
    "\n",
    "* Tr(A) = Tr(A)\n",
    "Assuming the matrix shapes line up: \n",
    "* Tr(A) = Tr(A) = Tr(A)\n",
    "In particular, the trace operator can provide a convenient way to calculate a matrix's Frobenius norm"
   ]
  }
 ],
 "metadata": {
  "language_info": {
   "name": "python"
  }
 },
 "nbformat": 4,
 "nbformat_minor": 2
}
