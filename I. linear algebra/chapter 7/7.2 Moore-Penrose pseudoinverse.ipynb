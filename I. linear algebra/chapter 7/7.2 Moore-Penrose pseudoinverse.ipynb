{
 "cells": [
  {
   "cell_type": "markdown",
   "metadata": {},
   "source": [
    "# The Moore-Penrose Pseudoinverse\n",
    "\n",
    "In mathematics, and in particular linear algebra, the Moore–Penrose inverse A+ of a matrix \n",
    "A is the most widely known generalization of the inverse matrix. \n",
    "It was independently described by E. H. Moore in 1920, Arne Bjerhammar in 1951, and Roger Penrose in 1955. Earlier, Erik Ivar Fredholm had introduced the concept of a pseudoinverse of integral operators in 1903. \n",
    "When referring to a matrix, the term pseudoinverse, without further specification, is often used to indicate the Moore–Penrose inverse. The term generalized inverse is sometimes used as a synonym for pseudoinverse."
   ]
  },
  {
   "cell_type": "markdown",
   "metadata": {},
   "source": [
    "The Moore-Penrose pseudo inverse is a generalization of the matrix inverse when the matrix may not be invertible. If A is invertible, then the Moore-Penrose pseudo inverse is equal to the matrix inverse. However, the Moore-Penrose pseudo inverse is defined even when A is not invertible.\n",
    "\n",
    "More formally, the Moore-Penrose pseudo inverse, A+, of an m-by-n matrix is defined by the unique n-by-m matrix satisfying the following four criteria (we are only considering the case where A consists of real numbers).\n",
    "\n",
    "- AA+A = A\n",
    "- A+AA+ = A+\n",
    "- (AA+)' = AA+\n",
    "- (A+A)' = A+A\n",
    "If A is an mxn matrix where m > n and A is of full rank (= n), then\n",
    "\n",
    "- A+ = (A'A)-1A'\n",
    "and the solution of Ax = b is x = A+b. In this case, the solution is not exact. It finds the solution that is closest in the least squares sense."
   ]
  },
  {
   "cell_type": "code",
   "execution_count": null,
   "metadata": {},
   "outputs": [],
   "source": [
    "import * as tf from '@tensorflow/tfjs';\n",
    "\n",
    "// Define a matrix\n",
    "const A = tf.tensor2d([[1, 2], [3, 4], [5, 6]]);\n",
    "\n",
    "// Compute Moore-Penrose pseudoinverse\n",
    "const A_pseudoinv = tf.linalg.pinv(A)\n",
    "\n",
    "// Print the result\n",
    "console.log(\"Moore-Penrose Pseudoinverse:\")\n",
    "console.log(A_pseudoinv.print())\n"
   ]
  }
 ],
 "metadata": {
  "language_info": {
   "name": "python"
  }
 },
 "nbformat": 4,
 "nbformat_minor": 2
}
