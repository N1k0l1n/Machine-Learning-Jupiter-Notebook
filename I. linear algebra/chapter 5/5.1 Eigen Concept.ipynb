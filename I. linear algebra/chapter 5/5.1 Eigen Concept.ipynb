{
 "cells": [
  {
   "cell_type": "markdown",
   "metadata": {},
   "source": [
    "## Eigen Concept "
   ]
  },
  {
   "cell_type": "markdown",
   "metadata": {},
   "source": [
    "## Eigenvector \n",
    "\n",
    "Eigenvector of a square matrix is defined as a non-vector in which when a given matrix is multiplied,  it is equal to a scalar multiple of that vector. \n",
    "\n",
    "Let us suppose that A is an n x n square matrix, and if v be a non-zero vector, then the product of matrix A, and vector v is defined as the product of a scalar quantity λ and the given vector, such that:\n",
    "\n",
    "Av =λv\n",
    "\n",
    "Where\n",
    "\n",
    "v = Eigenvector and λ be the scalar quantity that is termed as eigenvalue associated with given matrix A"
   ]
  },
  {
   "cell_type": "code",
   "execution_count": null,
   "metadata": {
    "vscode": {
     "languageId": "javascript"
    }
   },
   "outputs": [],
   "source": [
    "// Computes the eigenvalues of one or more matrices. Not avaible on tensorflow js\n",
    "tf.linalg.eigvals(\n",
    "    tensor, name=None\n",
    ")"
   ]
  },
  {
   "cell_type": "markdown",
   "metadata": {},
   "source": [
    "## Eigenvalues \n",
    "\n",
    "Eigenvalues are associated with eigenvectors in Linear algebra. Both terms are used in the analysis of linear transformations. \n",
    "\n",
    "Eigenvalues are the special set of scalar values that is associated with the set of linear equations most probably in the matrix equations. \n",
    "\n",
    "The eigenvectors are also termed as characteristic roots. It is a non-zero vector that can be changed at most by its scalar factor after the application of linear transformations. And the corresponding factor which scales the eigenvectors is called an eigenvalue."
   ]
  },
  {
   "cell_type": "code",
   "execution_count": null,
   "metadata": {
    "vscode": {
     "languageId": "javascript"
    }
   },
   "outputs": [],
   "source": [
    "// Computes the eigen decomposition of a batch of matrices. Not avaible on tensorflow js\n",
    "tf.linalg.eig(\n",
    "    tensor, name=None\n",
    ")"
   ]
  }
 ],
 "metadata": {
  "kernelspec": {
   "display_name": "Python 3",
   "language": "python",
   "name": "python3"
  },
  "language_info": {
   "name": "python",
   "version": "3.12.1"
  }
 },
 "nbformat": 4,
 "nbformat_minor": 2
}
