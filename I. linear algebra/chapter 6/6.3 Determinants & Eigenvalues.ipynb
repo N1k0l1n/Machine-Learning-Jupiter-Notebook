{
 "cells": [
  {
   "cell_type": "markdown",
   "metadata": {},
   "source": [
    "# Determinants & Eigenvalues\n",
    "\n",
    "The determinant of a triangular matrix is the product of its diagonal entries\n",
    "\n",
    "Example : \n",
    "\n",
    "A = [\n",
    "    [1, 2, 3, 4],\n",
    "    [0, 5, 6, 7],\n",
    "    [0, 0, 8, 9],\n",
    "    [0, 0, 0, 10]\n",
    "]\n",
    "\n",
    "det(A)=1 · 5 · 8 · 10 = 400\n",
    "\n",
    "\n",
    "Example 2:\n",
    " \n",
    "If det A = -3 for a 5 x 5 matrix A, find the determinant of the matrix 4A3.\n",
    "\n",
    "det(4A3) = 45 det(A3)\n",
    "= 45[det(A)]3\n",
    "= 45(−3)3\n"
   ]
  },
  {
   "cell_type": "code",
   "execution_count": null,
   "metadata": {
    "vscode": {
     "languageId": "javascript"
    }
   },
   "outputs": [],
   "source": [
    "const B = tf.tensor2d([[1, 2, 4], [2, -1, 3], [0, 5, 1]]);\n",
    "const c = tf.linalg.eigvals(B); //array([-3.25599251, -1.13863631,  5.39462882])\n",
    "const elements = [-3.25599251, -1.13863631, 5.39462882]\n",
    "const d = tf.dot(elements) //19.999999999999996\n",
    "\n",
    "\n",
    "//In similar way\n",
    "const B1 = tf.tensor2d([[1, 2, 4], [2, -1, 3], [0, 5, 1]]);\n",
    "const c1 = tf.linalg.det(B1); //19.999999999999996\n"
   ]
  }
 ],
 "metadata": {
  "kernelspec": {
   "display_name": "Python 3",
   "language": "python",
   "name": "python3"
  },
  "language_info": {
   "codemirror_mode": {
    "name": "ipython",
    "version": 3
   },
   "file_extension": ".py",
   "mimetype": "text/x-python",
   "name": "python",
   "nbconvert_exporter": "python",
   "pygments_lexer": "ipython3",
   "version": "3.12.1"
  }
 },
 "nbformat": 4,
 "nbformat_minor": 2
}
