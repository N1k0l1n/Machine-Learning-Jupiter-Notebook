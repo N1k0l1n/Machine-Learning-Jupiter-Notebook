{
 "cells": [
  {
   "cell_type": "markdown",
   "metadata": {},
   "source": [
    "# Eigendecomposition\n",
    "\n",
    "In linear algebra, eigendecomposition is the factorization of a matrix into a canonical form, whereby the matrix is represented in terms of its eigenvalues and eigenvectors.\n",
    "\n",
    "The eigendecomposition of some matrix A is : \n",
    "\n",
    "A=QΛQ−1\n",
    "\n",
    "Where:\n",
    "* Q is a square matrix whose columns are the eigenvectors of A\n",
    "* Λ is a diagonal matrix containing the eigenvalues of A\n"
   ]
  },
  {
   "cell_type": "code",
   "execution_count": null,
   "metadata": {},
   "outputs": [],
   "source": [
    "import * as tf from '@tensorflow/tfjs';\n",
    "\n",
    "// Define a square matrix\n",
    "const matrix = tf.tensor2d([[2, -1], [-1, 2]]);\n",
    "\n",
    "// Perform eigendecomposition\n",
    "const { eigenvalues, eigenvectors } = tf.linalg.eig(matrix);\n",
    "\n",
    "// Print eigenvalues and eigenvectors\n",
    "eigenvalues.print();\n",
    "eigenvectors.print();\n"
   ]
  },
  {
   "cell_type": "markdown",
   "metadata": {},
   "source": [
    "## Additional Notes\n",
    "Eigendecomposition is not possible with all matrices. And in some cases where it is possible, the eigendecomposition involves complex numbers instead of straightforward real numbers.\n",
    "\n",
    "In machine learning, however, we are typically working with real symmetric matrices, which can be conveniently and efficiently decomposed into real-only eigenvectors and real-only eigenvalues. \n",
    "If A is a real symmetric matrix then...\n",
    "\n",
    "A=QΛQ−T\n",
    "\n",
    "where: \n",
    "* T is transposition (its a power on the formula)\n",
    "* Q is analogous to Λ from the previous equation except that it's special because it's an orthogonal matrix."
   ]
  }
 ],
 "metadata": {
  "kernelspec": {
   "display_name": "Deno",
   "language": "typescript",
   "name": "deno"
  },
  "language_info": {
   "name": "typescript"
  }
 },
 "nbformat": 4,
 "nbformat_minor": 2
}
