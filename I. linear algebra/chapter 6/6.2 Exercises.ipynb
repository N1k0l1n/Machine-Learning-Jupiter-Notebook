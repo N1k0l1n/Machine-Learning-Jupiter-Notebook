{
 "cells": [
  {
   "cell_type": "markdown",
   "metadata": {},
   "source": [
    "# Exercises\n",
    "\n",
    "* Calculate the determinant of the matrices below. Indicate which have an inverse.\n",
    "\n",
    "1. const a = tf.tensor2d([[25, 2] , [3, 4]]);\n",
    "2. const b = tf.tensor2d([[-2, 0] , [0, 2]]);\n",
    "3. const c = tf.tensor2d([[2, 1, -3], [4, -5, 2], [0, -1, 3]]);"
   ]
  },
  {
   "cell_type": "code",
   "execution_count": null,
   "metadata": {
    "vscode": {
     "languageId": "javascript"
    }
   },
   "outputs": [],
   "source": [
    "// Exercise 1: \n",
    "const a = tf.tensor2d([[25, 2], [3, 4]]);\n",
    "const solution = tf.linalg.det(a).print();\n",
    "const inverse = tf.linalg.inv(solution);\n",
    "\n",
    "\n",
    "// Determinant:\n",
    "//     94\n",
    "\n",
    "// Inverse:\n",
    "// Tensor\n",
    "//     [[-0.04255319   0.0212766 ]\n",
    "//      [ 0.01276596   0.26595744]]\n"
   ]
  },
  {
   "cell_type": "code",
   "execution_count": null,
   "metadata": {
    "vscode": {
     "languageId": "javascript"
    }
   },
   "outputs": [],
   "source": [
    "// Exercise 2: \n",
    "const b = tf.tensor2d([[-2, 0], [0, -2]]);\n",
    "const solution = tf.linalg.det(b).print();\n",
    "const inverse = tf.linalg.inv(solution);\n",
    "\n",
    "// Determinant:\n",
    "//     4\n",
    "\n",
    "// Inverse:\n",
    "// Tensor\n",
    "//     [[-0.5  0  ]\n",
    "//      [ 0   -0.5]]"
   ]
  },
  {
   "cell_type": "code",
   "execution_count": null,
   "metadata": {
    "vscode": {
     "languageId": "javascript"
    }
   },
   "outputs": [],
   "source": [
    "// Exercise 3: \n",
    "const c = tf.tensor2d([[2, 1, -3], [4, -5, 2], [0, -1, 3]]);\n",
    "const solution = tf.linalg.det(c).print();\n",
    "const inverse = tf.linalg.inv(solution);\n",
    "\n",
    "// Determinant:\n",
    "//     26\n",
    "\n",
    "// Inverse:\n",
    "// Tensor\n",
    "//     [[ 0.33333334 -0.06666667 -0.2       ]\n",
    "//      [ 0.26666668 -0.06666667 -0.13333334]\n",
    "//      [-0.13333334 -0.06666667  0.33333334]]"
   ]
  }
 ],
 "metadata": {
  "kernelspec": {
   "display_name": "Python 3",
   "language": "python",
   "name": "python3"
  },
  "language_info": {
   "name": "python",
   "version": "3.12.1"
  }
 },
 "nbformat": 4,
 "nbformat_minor": 2
}
