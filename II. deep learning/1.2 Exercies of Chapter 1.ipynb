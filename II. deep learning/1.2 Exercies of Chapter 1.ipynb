{
 "cells": [
  {
   "cell_type": "markdown",
   "metadata": {},
   "source": [
    "# Exercies of Chapter 1\n",
    "\n",
    "* Create a vector, scalar, matrix and tensor with values of your choosing using tf.constant().\n",
    "* Find the shape, rank and size of the tensors you created in 1.\n",
    "* Create two tensors containing random values between 0 and 1 with shape [5, 300].\n",
    "* Multiply the two tensors you created in 3 using matrix multiplication.\n",
    "* Multiply the two tensors you created in 3 using dot product.\n",
    "* Create a tensor with random values between 0 and 1 with shape [224, 224, 3].\n",
    "* Find the min and max values of the tensor you created in 6 along the first axis.\n",
    "* Created a tensor with random values of shape [1, 224, 224, 3] then squeeze it to change the shape to [224, 224, 3].\n",
    "* Create a tensor with shape [10] using your own choice of values, then find the index which has the maximum value.\n",
    "* One-hot encode the tensor you created in 9."
   ]
  },
  {
   "cell_type": "code",
   "execution_count": null,
   "metadata": {},
   "outputs": [],
   "source": [
    "# Solution of exercise 1\n",
    "import tensorflow as tf\n",
    "\n",
    "# Scalar\n",
    "s = tf.constant(8)\n",
    "s\n",
    "# VECTOR\n",
    "v = tf.constant([5, 7])\n",
    "v\n",
    "# Matrix\n",
    "M = tf.constant([[3, 8], [1, 2]])\n",
    "M\n",
    "# Tensor\n",
    "T = tf.constant([[3, 8], [1, 2], [6 , 8]])\n",
    "T"
   ]
  },
  {
   "cell_type": "code",
   "execution_count": null,
   "metadata": {},
   "outputs": [],
   "source": [
    "# Solution of exercise 2\n",
    "\n",
    "# Rank\n",
    "rank_s = tf.rank(s)\n",
    "rank_v = tf.rank(v)\n",
    "rank_M = tf.rank(M)\n",
    "rank_T = tf.rank(T)\n",
    "\n",
    "# Size\n",
    "size_s = tf.size(s)\n",
    "size_v = tf.size(v)\n",
    "size_M = tf.size(M)\n",
    "size_T = tf.size(T)\n",
    "\n",
    "# Shape\n",
    "shape_s = tf.shape(s)\n",
    "shape_v = tf.shape(v)\n",
    "shape_M = tf.shape(M)\n",
    "shape_T = tf.shape(T)"
   ]
  },
  {
   "cell_type": "code",
   "execution_count": null,
   "metadata": {},
   "outputs": [],
   "source": [
    "# Solution of exercise 3\n",
    "tensor3 = tf.zeros(shape=(5, 300))\n",
    "tensor3\n",
    "tensor31 = tf.ones(shape=(5, 300))\n",
    "tensor32 = tf.reshape(tensor31, shape=[300, 5])"
   ]
  },
  {
   "cell_type": "code",
   "execution_count": null,
   "metadata": {},
   "outputs": [],
   "source": [
    "# Solution of exercise 4\n",
    "tensor4 = tf.linalg.matmul(tensor3, tensor32)\n",
    "tensor4"
   ]
  },
  {
   "cell_type": "code",
   "execution_count": null,
   "metadata": {},
   "outputs": [],
   "source": [
    "# Solution of exercise 5\n",
    "tensor5 = tf.tensordot(tensor3, tensor32, axes=1)\n",
    "tensor5"
   ]
  },
  {
   "cell_type": "code",
   "execution_count": null,
   "metadata": {},
   "outputs": [],
   "source": [
    "# Solution of exercise 6\n",
    "tensor6 = tf.random.uniform(shape=[224, 224, 3], minval=0,\n",
    "    maxval=1)\n",
    "tensor6"
   ]
  },
  {
   "cell_type": "code",
   "execution_count": null,
   "metadata": {},
   "outputs": [],
   "source": [
    "# Solution of exercise 7\n",
    "\n",
    "# Find the possitional minimum\n",
    "min = tf.argmin(tensor6)\n",
    "min\n",
    "# Index of this min vaule\n",
    "max = tf.argmax(tensor6)\n",
    "max"
   ]
  },
  {
   "cell_type": "code",
   "execution_count": null,
   "metadata": {},
   "outputs": [],
   "source": [
    "# Solution of exercise 7\n",
    "tensor7 = tf.random.uniform(shape=(1, 224, 224, 3))\n",
    "tensor7_squeezed = tf.squeeze(tensor7)\n",
    "tensor7_squeezed"
   ]
  },
  {
   "cell_type": "code",
   "execution_count": null,
   "metadata": {},
   "outputs": [],
   "source": [
    "# Solution of exercise 8\n",
    "tensor8 = tf.random.uniform(shape=[10])\n",
    "max_value = tf.argmax(tensor8)\n",
    "tensor8\n",
    "max_value\n"
   ]
  },
  {
   "cell_type": "code",
   "execution_count": null,
   "metadata": {},
   "outputs": [],
   "source": [
    "# Solution of exercise 9\n",
    "\n",
    "# Convert tensor8 to integer type (ChatGPT)\n",
    "tensor8_int = tf.cast(tensor8, dtype=tf.int32)\n",
    "\n",
    "# Apply one-hot encoding\n",
    "one_hot_tensor = tf.one_hot(tensor8_int, depth=10)\n",
    "\n",
    "# Print the original tensor and the one-hot encoded tensor\n",
    "print(\"Original Tensor:\", tensor8)\n",
    "print(\"One-Hot Encoded Tensor:\", one_hot_tensor)\n",
    "\n"
   ]
  }
 ],
 "metadata": {
  "language_info": {
   "name": "python"
  }
 },
 "nbformat": 4,
 "nbformat_minor": 2
}
