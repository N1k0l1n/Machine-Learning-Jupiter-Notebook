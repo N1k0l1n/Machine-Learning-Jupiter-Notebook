{
 "cells": [
  {
   "cell_type": "markdown",
   "metadata": {},
   "source": [
    "# Exercies of Chapter 1\n",
    "\n",
    "* Create a vector, scalar, matrix and tensor with values of your choosing using tf.constant().\n",
    "* Find the shape, rank and size of the tensors you created in 1.\n",
    "* Create two tensors containing random values between 0 and 1 with shape [5, 300].\n",
    "* Multiply the two tensors you created in 3 using matrix multiplication.\n",
    "* Multiply the two tensors you created in 3 using dot product.\n",
    "* Create a tensor with random values between 0 and 1 with shape [224, 224, 3].\n",
    "* Find the min and max values of the tensor you created in 6 along the first axis.\n",
    "* Created a tensor with random values of shape [1, 224, 224, 3] then squeeze it to change the shape to [224, 224, 3].\n",
    "* Create a tensor with shape [10] using your own choice of values, then find the index which has the maximum value.\n",
    "* One-hot encode the tensor you created in 9."
   ]
  },
  {
   "cell_type": "code",
   "execution_count": null,
   "metadata": {},
   "outputs": [],
   "source": [
    "# Solution of exercise 1\n",
    "import tensorflow as tf\n",
    "\n",
    "# Scalar\n",
    "s = tf.constant(8)\n",
    "s\n",
    "# VECTOR\n",
    "v = tf.constant([5, 7])\n",
    "v\n",
    "# Matrix\n",
    "M = tf.constant([[3, 8], [1, 2]])\n",
    "M\n",
    "# Tensor\n",
    "T = tf.constant([[3, 8], [1, 2], [6 , 8]])\n",
    "T"
   ]
  },
  {
   "cell_type": "code",
   "execution_count": null,
   "metadata": {},
   "outputs": [],
   "source": [
    "# Solution of exercise 2\n",
    "\n",
    "# Rank\n",
    "rank_s = tf.rank(s)\n",
    "rank_v = tf.rank(v)\n",
    "rank_M = tf.rank(M)\n",
    "rank_T = tf.rank(T)\n",
    "\n",
    "# Size\n",
    "size_s = tf.size(s)\n",
    "size_v = tf.size(v)\n",
    "size_M = tf.size(M)\n",
    "size_T = tf.size(T)\n",
    "\n",
    "# Shape\n",
    "shape_s = tf.shape(s)\n",
    "shape_v = tf.shape(v)\n",
    "shape_M = tf.shape(M)\n",
    "shape_T = tf.shape(T)"
   ]
  },
  {
   "cell_type": "code",
   "execution_count": null,
   "metadata": {},
   "outputs": [],
   "source": [
    "# Solution of exercise 3\n",
    "tensor3 = tf.zeros(shape=(5, 300))\n",
    "tensor3\n",
    "tensor31 = tf.ones(shape=(5, 300))\n",
    "tensor31"
   ]
  }
 ],
 "metadata": {
  "language_info": {
   "name": "python"
  }
 },
 "nbformat": 4,
 "nbformat_minor": 2
}
