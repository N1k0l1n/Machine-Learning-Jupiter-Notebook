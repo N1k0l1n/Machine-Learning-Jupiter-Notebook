{
 "cells": [
  {
   "cell_type": "markdown",
   "metadata": {},
   "source": [
    "# Vectors (Rank 1 Tensors) \n"
   ]
  },
  {
   "cell_type": "markdown",
   "metadata": {},
   "source": [
    "## Vector Transposition\n"
   ]
  },
  {
   "cell_type": "code",
   "execution_count": null,
   "metadata": {
    "vscode": {
     "languageId": "javascript"
    }
   },
   "outputs": [],
   "source": [
    "// Import TensorFlow.js\n",
    "const tf = require('@tensorflow/tfjs');\n",
    "\n",
    "// Create a 1D tensor (equivalent to a regular 1-D array)\n",
    "const x = tf.tensor1d([25, 2, 5]).print();\n",
    "\n",
    "// Transposing a regular 1-D array has no effect\n",
    "const x_t = x.transpose().print();\n",
    "\n",
    "\n",
    "//But this works\n",
    "const a = tf.tensor2d([1, 2, 3, 4, 5, 6], [2, 3]);\n",
    "a.transpose().print();  // or tf.transpose(a)\n",
    "\n",
    "\n",
    "  // Create a 2D tensor with a single row\n",
    "  const y = tf.tensor2d([[25, 2, 5]]);\n",
    "\n",
    "  // Print the tensor's values\n",
    "  await y.print();\n",
    "\n",
    "  console.log('Shape of y:', y.shape);\n",
    "\n",
    "  // Transpose the tensor\n",
    "  const y_t = y.transpose();\n",
    "\n",
    "  // Print the transposed tensor's values\n",
    "  await y_t.print();\n",
    "\n",
    "  console.log('Shape of y_t:', y_t.shape);"
   ]
  },
  {
   "cell_type": "markdown",
   "metadata": {},
   "source": [
    "## Zero Vectors\n",
    "Creates a tf.Tensor with all elements set to 0.\n",
    "\n",
    "Have no effect if added to another vector\n"
   ]
  },
  {
   "cell_type": "code",
   "execution_count": null,
   "metadata": {
    "vscode": {
     "languageId": "javascript"
    }
   },
   "outputs": [],
   "source": [
    "// Import TensorFlow.js\n",
    "const tf = require('@tensorflow/tfjs');\n",
    "\n",
    "// Create a zero vector with 3 elements\n",
    "const z_tf = tf.zeros([2, 2]).print();"
   ]
  },
  {
   "cell_type": "markdown",
   "metadata": {},
   "source": [
    "## The Euclidean norm (or L2 norm) of a tensor"
   ]
  },
  {
   "cell_type": "code",
   "execution_count": null,
   "metadata": {
    "vscode": {
     "languageId": "javascript"
    }
   },
   "outputs": [],
   "source": [
    "const x = tf.tensor1d([1, 2, 3, 4]);\n",
    "\n",
    "x.norm().print();  // or tf.norm(x)\n",
    "\n",
    "//What it does\n",
    "//   √(1*1+2*2+3*3+4*4)\n",
    "\n",
    "//Respose\n",
    "5.477225303649902"
   ]
  },
  {
   "cell_type": "markdown",
   "metadata": {},
   "source": [
    "## L1 norm calculation"
   ]
  },
  {
   "cell_type": "code",
   "execution_count": null,
   "metadata": {
    "vscode": {
     "languageId": "javascript"
    }
   },
   "outputs": [],
   "source": [
    "import * as tf from \"@tensorflow/tfjs\";\n",
    "\n",
    "// Create a tensor with the same values as the Python array\n",
    "const x = tf.tensor([25, 2, 5]);\n",
    "\n",
    "// Calculate the L1 norm using tf.norm()\n",
    "const l1Norm = tf.norm(x, 1).dataSync()[0]; // Extract the scalar value\n",
    "\n",
    "console.log(\"L1 Norm:\", l1Norm); // Output: 32\n"
   ]
  },
  {
   "cell_type": "markdown",
   "metadata": {},
   "source": [
    "## The squared L2 norm"
   ]
  },
  {
   "cell_type": "code",
   "execution_count": null,
   "metadata": {
    "vscode": {
     "languageId": "javascript"
    }
   },
   "outputs": [],
   "source": [
    "import * as tf from \"@tensorflow/tfjs\";\n",
    "\n",
    "// Create a tensor with the same values as the Python array\n",
    "const x = tf.tensor([25, 2, 5]);\n",
    "\n",
    "// Two methods to calculate the L2 norm:\n",
    "\n",
    "// Method 1: Element-wise squaring and summing\n",
    "const l2Norm1 = tf.sqrt(tf.sum(tf.square(x))).dataSync()[0];\n",
    "\n",
    "// Method 2: Using tf.norm() with order=2\n",
    "// (25*25+2*2+5*5)\n",
    "const l2Norm2 = tf.norm(x, 2).dataSync()[0];\n",
    "\n",
    "console.log(\"L2 Norm (method 1):\", l2Norm1); // Output: 654"
   ]
  },
  {
   "cell_type": "markdown",
   "metadata": {},
   "source": [
    "## Maximum absolute value of a tensor"
   ]
  },
  {
   "cell_type": "code",
   "execution_count": null,
   "metadata": {
    "vscode": {
     "languageId": "javascript"
    }
   },
   "outputs": [],
   "source": [
    "import * as tf from \"@tensorflow/tfjs\";\n",
    "\n",
    "// Create a tensor with the same values as the Python array\n",
    "const x = tf.tensor([25, 2, 5]);\n",
    "\n",
    "// Two methods to calculate the max norm:\n",
    "\n",
    "// Method 1: Using tf.abs and tf.max\n",
    "const maxNorm1 = tf.max(tf.abs(x)).dataSync()[0];\n",
    "\n",
    "// Method 2: Using tf.reduceMax with absolute values\n",
    "//In all absolute of the elements, which is the largest element, and then we return that value\n",
    "const maxNorm2 = tf.reduceMax(tf.abs(x)).dataSync()[0];\n",
    "\n",
    "console.log(\"Max Norm (method 1):\", maxNorm1); // Output: 25\n",
    "console.log(\"Max Norm (method 2):\", maxNorm2); // Output: 25\n",
    "\n",
    "// Bonus: Get the index of the element with the max absolute value\n",
    "const maxIndex = tf.argMax(tf.abs(x)).dataSync()[0];\n",
    "console.log(\"Index of max element:\", maxIndex); // Output: 0\n"
   ]
  },
  {
   "cell_type": "markdown",
   "metadata": {},
   "source": [
    "## Orthogonal Vectors\n",
    "We say that 2 vectors are orthogonal if they are perpendicular\n",
    "to each other. i.e. the dot product of the two vectors is zero."
   ]
  },
  {
   "cell_type": "code",
   "execution_count": null,
   "metadata": {
    "vscode": {
     "languageId": "javascript"
    }
   },
   "outputs": [],
   "source": [
    "// Creating vectors using TensorFlow.js\n",
    "const i = tf.tensor1d([1, 0]);\n",
    "const j = tf.tensor1d([0, 1]);\n",
    "\n",
    "// Calculating dot product using TensorFlow.js\n",
    "const dotProduct = tf.dot(i, j); // or i.dot(j).print();\n",
    "\n",
    "// Printing the result\n",
    "dotProduct.print();\n",
    "\n",
    "// Prints : 0"
   ]
  }
 ],
 "metadata": {
  "language_info": {
   "name": "python"
  }
 },
 "nbformat": 4,
 "nbformat_minor": 2
}
