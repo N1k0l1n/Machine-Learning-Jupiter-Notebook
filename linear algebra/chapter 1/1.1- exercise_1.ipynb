{
 "cells": [
  {
   "cell_type": "markdown",
   "metadata": {},
   "source": [
    "# Linear Algebra Visualization Exercise\n",
    "\n",
    "## Problem Statement\n",
    "\n",
    "A bank robber and a sheriff are involved in a pursuit. The robber's distance traveled and the sheriff's distance traveled over time are modeled using linear algebra. Your task is to visualize this scenario using TensorFlow.js Visor.\n",
    "\n",
    "## Given Information\n",
    "\n",
    "- Robber's distance over time: \\(d_r = 2.5 \\times t\\)\n",
    "- Sheriff's distance over time: \\(d_s = 3 \\times (t - 5)\\)\n",
    "- Time values are defined using linspace from 0 to 40 with 1000 points.\n",
    "\n",
    "## Visualization Requirements\n",
    "\n",
    "1. Render a line chart using TensorFlow.js Visor.\n",
    "2. X-axis: Time (in minutes)\n",
    "3. Y-axis: Distance (in km)\n",
    "4. Plot the robber's distance in green.\n",
    "5. Plot the sheriff's distance in brown.\n",
    "6. Draw a purple dashed vertical line at \\(t = 30\\), representing a significant event.\n",
    "7. Draw a purple dashed horizontal line at \\(y = 75\\), representing a distance threshold.\n"
   ]
  },
  {
   "cell_type": "code",
   "execution_count": null,
   "metadata": {
    "vscode": {
     "languageId": "javascript"
    }
   },
   "outputs": [],
   "source": [
    "import * as tf from '@tensorflow/tfjs';\n",
    "import { linspace } from 'linspace';\n",
    "import { visor, renderLineChart } from '@tensorflow/tfjs-vis';\n",
    "\n",
    "// Enable TensorFlow.js Visor\n",
    "visor().open();\n",
    "\n",
    "// Define the time values\n",
    "const t = linspace(0, 40, 1000);\n",
    "\n",
    "// Distance travelled by robber\n",
    "const d_r = tf.mul(2.5, t);\n",
    "\n",
    "// Distance travelled by sheriff\n",
    "const d_s = tf.mul(3, tf.sub(t, 5));\n",
    "\n",
    "// Convert TensorFlow tensors to arrays for visualization\n",
    "const data = [\n",
    "  { values: [t, d_r.arraySync()], series: 'Robber', color: 'green' },\n",
    "  { values: [t, d_s.arraySync()], series: 'Sheriff', color: 'brown' },\n",
    "  { values: [[30, 30], [0, 100]], series: 'Event', color: 'purple', lineDash: [5, 2] },\n",
    "  { values: [[0, 40], [75, 75]], series: 'Threshold', color: 'purple', lineDash: [5, 2] },\n",
    "];\n",
    "\n",
    "// Render a line chart using tfvis\n",
    "renderLineChart({ name: 'Distance vs Time', xLabel: 'time (in minutes)', yLabel: 'distance (in km)' }, { values: data });\n",
    "\n",
    "// Keep the visualization open\n",
    "visor().toggle();\n"
   ]
  }
 ],
 "metadata": {
  "language_info": {
   "name": "python"
  }
 },
 "nbformat": 4,
 "nbformat_minor": 2
}
