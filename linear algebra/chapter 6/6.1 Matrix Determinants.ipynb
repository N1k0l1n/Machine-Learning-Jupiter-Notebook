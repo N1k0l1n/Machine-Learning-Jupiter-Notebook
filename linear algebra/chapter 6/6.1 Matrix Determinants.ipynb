{
 "cells": [
  {
   "cell_type": "markdown",
   "metadata": {},
   "source": [
    "# Matrix Determinants\n",
    "\n",
    "The determinant of a matrix is a single numerical value which is used when calculating the inverse or when solving systems of linear equations.\n",
    "\n",
    "The determinant of a matrix \n",
    "A is denoted |A|, or sometimes det(A). \n",
    "\n",
    "* The determinant is only defined for square matrices.\n",
    "* A matrix is said to be singular if its determinant is zero.\n",
    "\n",
    "The general formula for the determinant of matrices of any size is very complicated. You will only be asked to compute the determinants of 2×2 or 3×3 matrices by hand.\n",
    "\n",
    "* Example (2x2 matrix):\n",
    "\n",
    "Let A = |3  0|\n",
    "        |0  2|\n",
    "\n",
    "The determinant of A is: |A|= ad − bc  //6-0 = 6"
   ]
  },
  {
   "cell_type": "code",
   "execution_count": null,
   "metadata": {
    "vscode": {
     "languageId": "javascript"
    }
   },
   "outputs": [],
   "source": [
    "//Not available in tensorflow js\n",
    "tf.linalg.det()"
   ]
  },
  {
   "cell_type": "markdown",
   "metadata": {},
   "source": [
    "# Determinant of Larger Matrices"
   ]
  },
  {
   "cell_type": "markdown",
   "metadata": {},
   "source": [
    "## Generalizing Determinants: Recursion\n",
    "\n",
    "The determinant of a 3×3 matrix can be calculated by breaking it down into smaller 2×2matrices.\n",
    "\n",
    "Example: \n",
    "\n",
    "           |1  2  1|\n",
    "Let A =    |0  3  4|\n",
    "           |3  1  4|\n",
    "\n",
    "|A|= 1|3  4| - 2|0  4|  +1|0  3|\n",
    "      |1  4|    |3  4|    |3  1|\n",
    "\n",
    "      = 1(3×4 − 4×1) − 2(0×4 −4×3) + 1(0×1 −3×3)\n",
    "      = 1(12−4) − 2(0 − 12) + 1(0−9)\n",
    "      = 8 + 24 − 9\n",
    "      = 23\n",
    "\n"
   ]
  },
  {
   "cell_type": "code",
   "execution_count": null,
   "metadata": {
    "vscode": {
     "languageId": "javascript"
    }
   },
   "outputs": [],
   "source": [
    "const a = tf.tensor2d([[1, 2, 1], [0, 3, 4], [3, 1, 4]]);\n",
    "\n",
    "//Not available in tensorflow js\n",
    "const b = tf.linalg.det(a).print();"
   ]
  }
 ],
 "metadata": {
  "kernelspec": {
   "display_name": "Python 3",
   "language": "python",
   "name": "python3"
  },
  "language_info": {
   "name": "python",
   "version": "3.12.1"
  }
 },
 "nbformat": 4,
 "nbformat_minor": 2
}
