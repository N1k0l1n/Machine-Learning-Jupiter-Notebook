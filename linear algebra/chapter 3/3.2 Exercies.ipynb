{
 "cells": [
  {
   "cell_type": "markdown",
   "metadata": {},
   "source": [
    "# Exercies\n",
    "\n",
    "* Multiply the following Matrices\n",
    "a = tf.tensor2d([[0, 1, 2], [3, 4, 5], [6, 7, 8]]);\n",
    "b = tf.tensor1d([-1, 1, -2]);"
   ]
  },
  {
   "cell_type": "code",
   "execution_count": null,
   "metadata": {
    "vscode": {
     "languageId": "javascript"
    }
   },
   "outputs": [],
   "source": [
    "const a = tf.tensor2d([[0, 1, 2], [3, 4, 5], [6, 7, 8]]);\n",
    "\n",
    "const b = tf.tensor1d([-1, 1, -2]);\n",
    "\n",
    "a.dot(b).print();"
   ]
  },
  {
   "cell_type": "markdown",
   "metadata": {},
   "source": [
    "* Multiply the following Matrices\n",
    "a = tf.tensor2d([[0, 1, 2], [3, 4, 5], [6, 7, 8]]);\n",
    "b = tf.tensor2d([[-1, 0], [1, 1], [-2, 2] ]);"
   ]
  },
  {
   "cell_type": "code",
   "execution_count": null,
   "metadata": {
    "vscode": {
     "languageId": "javascript"
    }
   },
   "outputs": [],
   "source": [
    "const a = tf.tensor2d([[0, 1, 2], [3, 4, 5], [6, 7, 8]]);\n",
    "\n",
    "const b = tf.tensor2d([[-1, 0], [1, 1], [-2, 2] ]);\n",
    "\n",
    "\n",
    "a.dot(b).print();"
   ]
  }
 ],
 "metadata": {
  "kernelspec": {
   "display_name": "Python 3",
   "language": "python",
   "name": "python3"
  },
  "language_info": {
   "name": "python",
   "version": "3.12.1"
  }
 },
 "nbformat": 4,
 "nbformat_minor": 2
}
