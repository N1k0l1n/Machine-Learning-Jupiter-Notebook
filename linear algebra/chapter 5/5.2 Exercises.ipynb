{
 "cells": [
  {
   "cell_type": "markdown",
   "metadata": {},
   "source": [
    "# Exercises\n",
    "\n",
    "For the give vectors:\n",
    "\n",
    "u = tf.tensor1d([2, 5, -3])\n",
    "\n",
    "u2 = tf.tensor1d([0, -4, 6])\n",
    "\n",
    "B = tf.tensor2d([[2, 0, -1], [-2, 3, 1], [-0, 4, - 1]]) \n",
    "\n",
    "1. Apply the identity matrix i3 to the given vector u.\n",
    "\n",
    "2. Apply Matrix B to the given vector u.\n",
    "\n",
    "3. Concatenate vector u with the vector u2 to form a matrix, then apply the matrix B to the created matrix (for exampe u3)"
   ]
  },
  {
   "cell_type": "code",
   "execution_count": null,
   "metadata": {
    "vscode": {
     "languageId": "javascript"
    }
   },
   "outputs": [],
   "source": [
    "// Solution for exercise 1: \n",
    "const u = tf.tensor1d([2, 5, -3])\n",
    "\n",
    "//The tricky part. i3 is a 2d tensor\n",
    "const i3 = tf.tensor2d([[1, 0, 0], [0, 1, 0], [0, 0, 1]]);\n",
    "\n",
    "u.dot(i3).print();"
   ]
  },
  {
   "cell_type": "code",
   "execution_count": null,
   "metadata": {
    "vscode": {
     "languageId": "javascript"
    }
   },
   "outputs": [],
   "source": [
    "// Solution for exercise 2: \n",
    "const u = tf.tensor1d([2, 5, -3]);\n",
    "\n",
    "const B = tf.tensor2d([[2, 0, -1], [-2, 3, 1], [0, 4, - 1]]);\n",
    "\n",
    "//Remember, very important is the order of the required operations\n",
    "B.dot(u2).print();"
   ]
  },
  {
   "cell_type": "code",
   "execution_count": null,
   "metadata": {
    "vscode": {
     "languageId": "javascript"
    }
   },
   "outputs": [],
   "source": [
    "// Solution for exercise 3: \n",
    "const u = tf.tensor1d([2, 5, -3]);\n",
    "\n",
    "const u2 = tf.tensor1d([0, -4, 6])\n",
    "\n",
    "//cant multiply on current state after concat\n",
    "// need to reshape to  3 column and 2 row in order to match the number of columns of B \n",
    "const u3 = u.concat(u2).reshape([3, 2]);\n",
    "\n",
    "\n",
    "const B = tf.tensor2d([[2, 0, -1], [-2, 3, 1], [0, 4, - 1]]);\n",
    "\n",
    "//Remember, very important is the order of the required operations\n",
    "B.dot(u3).print();"
   ]
  }
 ],
 "metadata": {
  "kernelspec": {
   "display_name": "Python 3",
   "language": "python",
   "name": "python3"
  },
  "language_info": {
   "name": "python",
   "version": "3.12.1"
  }
 },
 "nbformat": 4,
 "nbformat_minor": 2
}
