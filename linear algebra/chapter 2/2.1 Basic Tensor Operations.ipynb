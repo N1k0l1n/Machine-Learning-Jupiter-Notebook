{
 "cells": [
  {
   "cell_type": "markdown",
   "metadata": {},
   "source": [
    "# Common Tensor Operations"
   ]
  },
  {
   "cell_type": "markdown",
   "metadata": {},
   "source": [
    "## Basic Arithmetical Properties\n",
    "\n",
    "Adding or multiplying with scalar applies operation to all elements and tensor shape is retained:"
   ]
  },
  {
   "cell_type": "markdown",
   "metadata": {},
   "source": [
    "### Adding Example"
   ]
  },
  {
   "cell_type": "code",
   "execution_count": null,
   "metadata": {
    "vscode": {
     "languageId": "javascript"
    }
   },
   "outputs": [],
   "source": [
    "//Adding Example\n",
    "const tensor = tf.tensor2d([[1, 2, 3], [4, 5, 6]]);\n",
    "const scalar = 5;\n",
    "\n",
    "// Add the scalar to each element of the tensor\n",
    "const addedTensor = tensor.add(scalar);\n",
    "\n",
    "// Print the original and added tensors\n",
    "console.log('Original tensor:', tensor.print());\n",
    "console.log('Added tensor:', addedTensor.print());"
   ]
  },
  {
   "cell_type": "markdown",
   "metadata": {},
   "source": [
    "### Multiply Example\n",
    "\n",
    "* If two tensors have the same size, operations are often by default applied element-wise. This is not matrix multiplication, which we'll cover later, but is rather called the Hadamard product or simply the element-wise product.\n",
    "\n"
   ]
  },
  {
   "cell_type": "code",
   "execution_count": null,
   "metadata": {
    "vscode": {
     "languageId": "javascript"
    }
   },
   "outputs": [],
   "source": [
    "//Multiply Example\n",
    "const tensor = tf.tensor2d([[1, 2, 3], [4, 5, 6]]);\n",
    "const scalar = 2;\n",
    "\n",
    "// Multiply each element of the tensor by the scalar\n",
    "const multipliedTensor = tensor.mul(scalar);\n",
    "\n",
    "// Print the original and multiplied tensors\n",
    "console.log('Original tensor:', tensor.print());\n",
    "console.log('Multiplied tensor:', multipliedTensor.print());\n"
   ]
  },
  {
   "cell_type": "markdown",
   "metadata": {},
   "source": [
    "### Mixed operations example\n",
    "\n",
    "* This code creates separate scalar tensors for scalar1 and scalar2. Then, it adds and multiplies the added tensor with the respective scalar tensors using broadcasting, which automatically replicates the scalar values to match the dimensions of the other tensor for element-wise operations.\n",
    "(the order of this operations matters and you will not get the same results i.e : tensor.mul(scalar1).add(scalar2))"
   ]
  },
  {
   "cell_type": "code",
   "execution_count": null,
   "metadata": {
    "vscode": {
     "languageId": "javascript"
    }
   },
   "outputs": [],
   "source": [
    "const tensor = tf.tensor2d([[1, 2, 3], [4, 5, 6]]);\n",
    "const scalar1 = 5;\n",
    "const scalar2 = 2;\n",
    "\n",
    "const transformedTensor = tensor.add(scalar1).mul(scalar2);\n",
    "\n",
    "console.log('Transformed tensor:', transformedTensor.print());\n"
   ]
  },
  {
   "cell_type": "markdown",
   "metadata": {},
   "source": [
    "## Reduction\n",
    "\n",
    "Calculating the sum across all elements of a tensor is a common operation. For example:\n",
    "\n",
    "For vector *x* of length n, we calculate Sum(v)=v1+v2+…+vn\n",
    "\n",
    "For matrix *X*, we calculate Sum(M)=∑ i=1 m ​ (∑ j=1 nM in ​ )\n"
   ]
  },
  {
   "cell_type": "markdown",
   "metadata": {},
   "source": [
    "*  Summing all elements:"
   ]
  },
  {
   "cell_type": "code",
   "execution_count": null,
   "metadata": {
    "vscode": {
     "languageId": "javascript"
    }
   },
   "outputs": [],
   "source": [
    "const tensor = tf.tensor2d([[1, 2, 3], [4, 5, 6]]);\n",
    "tensor.sum().print();"
   ]
  },
  {
   "cell_type": "markdown",
   "metadata": {},
   "source": [
    "* Summing across specific axes:\n",
    "To obtain the sum along individual axes, you can specify the axis parameter in the sum method"
   ]
  },
  {
   "cell_type": "markdown",
   "metadata": {},
   "source": [
    "* Summing rows:"
   ]
  },
  {
   "cell_type": "code",
   "execution_count": null,
   "metadata": {
    "vscode": {
     "languageId": "javascript"
    }
   },
   "outputs": [],
   "source": [
    "const rowSums = tensor.sum(axis=0); // Sum across rows (axis=0)\n",
    "rowSums.print(); // Print the resulting tensor with row sums"
   ]
  },
  {
   "cell_type": "markdown",
   "metadata": {},
   "source": [
    "* Summing columns"
   ]
  },
  {
   "cell_type": "code",
   "execution_count": null,
   "metadata": {
    "vscode": {
     "languageId": "javascript"
    }
   },
   "outputs": [],
   "source": [
    "const colSums = tensor.sum(axis=1); // Sum across columns (axis=1)\n",
    "colSums.print(); // Print the resulting tensor with column sums"
   ]
  },
  {
   "cell_type": "markdown",
   "metadata": {},
   "source": [
    " ### \n",
    "Many other operations can be applied with reduction along all or a selection of axes, e.g.:\n",
    "\n",
    "maximum\n",
    "minimum\n",
    "mean\n",
    "product\n",
    "They're fairly straightforward and used less often than summation, so you're welcome to look them up in library docs if you ever need them."
   ]
  }
 ],
 "metadata": {
  "language_info": {
   "name": "python"
  }
 },
 "nbformat": 4,
 "nbformat_minor": 2
}
