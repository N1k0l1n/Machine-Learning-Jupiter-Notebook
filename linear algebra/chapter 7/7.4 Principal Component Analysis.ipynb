{
 "cells": [
  {
   "cell_type": "markdown",
   "metadata": {},
   "source": [
    "# Principal Component Analysis\n",
    "\n",
    "Principal component analysis is a versatile statistical method for reducing a cases-by-variables data table to its essential features, called principal components. Principal components are a few linear combinations of the original variables that maximally explain the variance of all the variables"
   ]
  },
  {
   "cell_type": "code",
   "execution_count": null,
   "metadata": {
    "vscode": {
     "languageId": "javascript"
    }
   },
   "outputs": [],
   "source": [
    "const tf = require('@tensorflow/tfjs');\n",
    "const PCA = require('ml-pca').default;\n",
    "const tfvis = require('@tensorflow/tfjs-vis');\n",
    "\n",
    "// Define the data\n",
    "const irisData = [\n",
    "    [5.1, 3.5, 1.4, 0.2],\n",
    "    [4.9, 3.0, 1.4, 0.2],\n",
    "    // Other data points\n",
    "];\n",
    "\n",
    "// Convert data to tensors\n",
    "const dataTensor = tf.tensor2d(irisData);\n",
    "\n",
    "// Perform PCA using ml-pca\n",
    "const pca = new PCA(irisData);\n",
    "const components = pca.getComponents();\n",
    "const projectedData = pca.predict(irisData, { nComponents: 2 });\n",
    "\n",
    "// Convert projected data to tensors\n",
    "const projectedTensor = tf.tensor2d(projectedData);\n",
    "\n",
    "// Visualize the original data\n",
    "tfvis.render.scatterplot(\n",
    "  {name: 'Original Data'},\n",
    "  {values: irisData, series: ['Feature 1', 'Feature 2', 'Feature 3', 'Feature 4']},\n",
    "  {xLabel: 'Feature 1', yLabel: 'Feature 2'}\n",
    ");\n",
    "\n",
    "// Visualize the projected data\n",
    "tfvis.render.scatterplot(\n",
    "  {name: 'Projected Data'},\n",
    "  {values: projectedData, series: ['Component 1', 'Component 2']},\n",
    "  {xLabel: 'Component 1', yLabel: 'Component 2'}\n",
    ");\n"
   ]
  }
 ],
 "metadata": {
  "language_info": {
   "name": "python"
  }
 },
 "nbformat": 4,
 "nbformat_minor": 2
}
