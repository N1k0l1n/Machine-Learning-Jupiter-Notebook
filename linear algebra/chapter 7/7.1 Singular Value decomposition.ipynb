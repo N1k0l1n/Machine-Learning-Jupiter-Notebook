{
 "cells": [
  {
   "cell_type": "markdown",
   "metadata": {},
   "source": [
    "# Singular Value decomposition\n",
    "\n",
    "In linear algebra, the singular value decomposition (SVD) is a factorization of a real or complex matrix into a rotation, followed by a rescaling followed by another rotation. It generalizes the eigendecomposition of a square normal matrix with an orthonormal eigenbasis to any m × n matrix. It is related to the polar decomposition.\n",
    "\n",
    "\n",
    "Specifically, the singular value decomposition of an m × n complex matrix M is a factorization of the form :\n",
    "* M = UΣV*,\n",
    "where:  \n",
    "- U is m × n complex unitary matrix, \n",
    "- Σ is an m × n rectangular diagonal matrix with non-negative real numbers on the diagonal,\n",
    "- V is an m × n complex unitary matrix, \n",
    "- and V∗ is the conjugate transpose of V. \n",
    "Such decomposition always exists for any complex matrix. If M is real, then U and V can be guaranteed to be real orthogonal matrices;"
   ]
  },
  {
   "cell_type": "code",
   "execution_count": null,
   "metadata": {},
   "outputs": [],
   "source": [
    "const A = tf.tensor2d([[-1, 2], [3, -2], [5, 7]]);\n",
    "\n",
    "A.linalg.svd().print()"
   ]
  }
 ],
 "metadata": {
  "kernelspec": {
   "display_name": "Deno",
   "language": "typescript",
   "name": "deno"
  },
  "language_info": {
   "name": "typescript"
  }
 },
 "nbformat": 4,
 "nbformat_minor": 2
}
