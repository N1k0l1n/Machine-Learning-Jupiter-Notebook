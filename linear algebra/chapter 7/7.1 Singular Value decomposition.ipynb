{
 "cells": [
  {
   "cell_type": "markdown",
   "metadata": {},
   "source": [
    "# Singular Value decomposition\n",
    "\n",
    "In linear algebra, the singular value decomposition (SVD) is a factorization of a real or complex matrix into a rotation, followed by a rescaling followed by another rotation. It generalizes the eigendecomposition of a square normal matrix with an orthonormal eigenbasis to any m × n matrix. It is related to the polar decomposition.\n",
    "\n",
    "\n",
    "Specifically, the singular value decomposition of an m × n complex matrix M is a factorization of the form :\n",
    "* M = UΣV*,\n",
    "where:  \n",
    "- U is m × n complex unitary matrix, \n",
    "- Σ is an m × n rectangular diagonal matrix with non-negative real numbers on the diagonal,\n",
    "- V is an m × n complex unitary matrix, \n",
    "- and V∗ is the conjugate transpose of V. \n",
    "Such decomposition always exists for any complex matrix. If M is real, then U and V can be guaranteed to be real orthogonal matrices;"
   ]
  },
  {
   "cell_type": "code",
   "execution_count": null,
   "metadata": {},
   "outputs": [],
   "source": [
    "const A = tf.tensor2d([[-1, 2], [3, -2], [5, 7]]);\n",
    "\n",
    "A.linalg.svd().print()"
   ]
  },
  {
   "cell_type": "markdown",
   "metadata": {},
   "source": [
    "## Image Compression via SVD"
   ]
  },
  {
   "cell_type": "code",
   "execution_count": null,
   "metadata": {},
   "outputs": [],
   "source": [
    "import * as tf from '@tensorflow/tfjs';\n",
    "import * as plt from 'nodeplotlib';\n",
    "\n",
    "// Load image (replace 'oboe-with-book.jpg' with the path to your image)\n",
    "const imgPath = 'oboe-with-book.jpg';\n",
    "const img = tf.node.decodeImage(tf.node.readFileSync(imgPath));\n",
    "\n",
    "// Display original image\n",
    "plt.imshow({ image: img.arraySync() });\n",
    "plt.title('Original Image');\n",
    "plt.show();\n",
    "\n",
    "// Convert image to grayscale\n",
    "const imgGray = tf.image.rgbToGrayscale(img);\n",
    "\n",
    "// Display grayscale image\n",
    "plt.imshow({ image: imgGray.squeeze().arraySync() });\n",
    "plt.title('Grayscale Image');\n",
    "plt.show();\n",
    "\n",
    "// Convert image to tensor\n",
    "const imgTensor = imgGray.toFloat().reshape([imgGray.shape[0], imgGray.shape[1]]);\n",
    "\n",
    "// Perform SVD\n",
    "const { s, u, v } = tf.linalg.svd(imgTensor);\n",
    "\n",
    "// Reconstruct image with different numbers of singular vectors\n",
    "const numSingularVectors = [1, 2, 4, 8, 16, 32, 64];\n",
    "numSingularVectors.forEach(num => {\n",
    "    const reconstImgTensor = tf.matMul(u.slice([0, 0], [u.shape[0], num]), tf.diag(s.slice([0, 0], [num])), v.slice([0, 0], [num, v.shape[1]]), false, true);\n",
    "    const reconstImgArray = reconstImgTensor.arraySync();\n",
    "    plt.imshow({ image: reconstImgArray });\n",
    "    plt.title(`Reconstructed Image with ${num} Singular Vectors`);\n",
    "    plt.show();\n",
    "});\n",
    "\n",
    "//With 64 singular vectors, the image is reconstructed quite well, however the data footprint is much smaller than the original image:\n",
    "\n"
   ]
  }
 ],
 "metadata": {
  "kernelspec": {
   "display_name": "Deno",
   "language": "typescript",
   "name": "deno"
  },
  "language_info": {
   "name": "typescript"
  }
 },
 "nbformat": 4,
 "nbformat_minor": 2
}
